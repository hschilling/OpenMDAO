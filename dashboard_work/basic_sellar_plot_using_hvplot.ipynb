{
 "cells": [
  {
   "cell_type": "code",
   "execution_count": 5,
   "id": "d8ca9c00",
   "metadata": {},
   "outputs": [],
   "source": [
    "from openmdao.test_suite.components.sellar import SellarDerivativesGrouped\n",
    "from openmdao.utils.assert_utils import assert_near_equal, assert_warning\n",
    "import openmdao.api as om\n",
    "\n",
    "import numpy as np\n",
    "\n",
    "import pandas as pd\n",
    "import hvplot.pandas # Adds .hvplot and .interactive methods to Pandas dataframes\n",
    "import panel as pn # Panel is a simple, flexible and enterprise-ready data app framework\\"
   ]
  },
  {
   "cell_type": "code",
   "execution_count": 6,
   "id": "5f41ff99",
   "metadata": {},
   "outputs": [],
   "source": [
    "pn.extension(sizing_mode=\"stretch_width\")\n",
    "pd.set_option(\"precision\", 0)\n",
    "\n",
    "PALETTE = [\"#ff6f69\", \"#ffcc5c\", \"#88d8b0\", ]\n",
    "ACCENT_BASE_COLOR = PALETTE[0]"
   ]
  },
  {
   "cell_type": "code",
   "execution_count": 7,
   "id": "9577beb1",
   "metadata": {},
   "outputs": [],
   "source": [
    "prob = om.Problem()\n",
    "model = prob.model = SellarDerivativesGrouped(nonlinear_solver=om.NonlinearBlockGS,\n",
    "                                              linear_solver=om.ScipyKrylov)\n",
    "\n",
    "prob.driver = om.ScipyOptimizeDriver(optimizer='SLSQP', tol=1e-9, disp=False)\n",
    "\n",
    "model.add_design_var('z', lower=np.array([-10.0, 0.0]), upper=np.array([10.0, 10.0]))\n",
    "model.add_design_var('x', lower=0.0, upper=10.0)\n",
    "model.add_objective('obj')\n",
    "model.add_constraint('con1', upper=0.0)\n",
    "model.add_constraint('con2', upper=0.0)\n",
    "\n",
    "prob.setup(check=False, mode='rev')\n",
    "\n",
    "\n",
    "driver = prob.driver\n",
    "filename = \"sellar_recording.sql\"\n",
    "recorder = om.SqliteRecorder(filename, record_viewer_data=False)\n",
    "driver.recording_options['record_desvars'] = True\n",
    "driver.recording_options['record_objectives'] = True\n",
    "driver.recording_options['record_constraints'] = True\n",
    "driver.recording_options['includes'] = []\n",
    "driver.add_recorder(recorder)"
   ]
  },
  {
   "cell_type": "code",
   "execution_count": 8,
   "id": "54e25f29",
   "metadata": {},
   "outputs": [
    {
     "name": "stdout",
     "output_type": "stream",
     "text": [
      "NL: NLBGS Converged in 8 iterations\n"
     ]
    },
    {
     "name": "stderr",
     "output_type": "stream",
     "text": [
      "/Users/hschilli/Documents/OpenMDAO/dev/plot_opt_using_panel/openmdao/recorders/sqlite_recorder.py:227: UserWarning:The existing case recorder file, sellar_recording.sql, is being overwritten.\n"
     ]
    },
    {
     "name": "stdout",
     "output_type": "stream",
     "text": [
      "NL: NLBGS Converged in 1 iterations\n",
      "NL: NLBGS Converged in 9 iterations\n",
      "NL: NLBGS Converged in 10 iterations\n",
      "NL: NLBGS Converged in 10 iterations\n",
      "NL: NLBGS Converged in 9 iterations\n",
      "NL: NLBGS Converged in 6 iterations\n"
     ]
    }
   ],
   "source": [
    "failed = prob.run_driver()"
   ]
  },
  {
   "cell_type": "code",
   "execution_count": 9,
   "id": "10b335bb",
   "metadata": {},
   "outputs": [],
   "source": [
    "cr = om.CaseReader(filename)\n",
    "driver_cases = cr.list_cases('driver', out_stream=None)\n",
    "\n",
    "df = pd.DataFrame()\n",
    "\n",
    "\n",
    "for i, iter_coord in enumerate(driver_cases):\n",
    "    case = cr.get_case(iter_coord)\n",
    "    for key, value in case.outputs.items():\n",
    "        if key not in df.columns:\n",
    "            df[key] = None  # None represents the initial values in the column\n",
    "        df.loc[i, key] = np.linalg.norm(value)"
   ]
  },
  {
   "cell_type": "code",
   "execution_count": 10,
   "id": "ba3b085a",
   "metadata": {},
   "outputs": [
    {
     "data": {
      "text/html": [
       "<div>\n",
       "<style scoped>\n",
       "    .dataframe tbody tr th:only-of-type {\n",
       "        vertical-align: middle;\n",
       "    }\n",
       "\n",
       "    .dataframe tbody tr th {\n",
       "        vertical-align: top;\n",
       "    }\n",
       "\n",
       "    .dataframe thead th {\n",
       "        text-align: right;\n",
       "    }\n",
       "</style>\n",
       "<table border=\"1\" class=\"dataframe\">\n",
       "  <thead>\n",
       "    <tr style=\"text-align: right;\">\n",
       "      <th></th>\n",
       "      <th>z</th>\n",
       "      <th>x</th>\n",
       "      <th>con1</th>\n",
       "      <th>con2</th>\n",
       "      <th>obj</th>\n",
       "    </tr>\n",
       "  </thead>\n",
       "  <tbody>\n",
       "    <tr>\n",
       "      <th>0</th>\n",
       "      <td>5</td>\n",
       "      <td>1</td>\n",
       "      <td>2e+01</td>\n",
       "      <td>1e+01</td>\n",
       "      <td>3e+01</td>\n",
       "    </tr>\n",
       "    <tr>\n",
       "      <th>1</th>\n",
       "      <td>5</td>\n",
       "      <td>1</td>\n",
       "      <td>2e+01</td>\n",
       "      <td>1e+01</td>\n",
       "      <td>3e+01</td>\n",
       "    </tr>\n",
       "    <tr>\n",
       "      <th>2</th>\n",
       "      <td>3</td>\n",
       "      <td>3e-15</td>\n",
       "      <td>5</td>\n",
       "      <td>2e+01</td>\n",
       "      <td>9</td>\n",
       "    </tr>\n",
       "    <tr>\n",
       "      <th>3</th>\n",
       "      <td>2</td>\n",
       "      <td>4e-17</td>\n",
       "      <td>0.6</td>\n",
       "      <td>2e+01</td>\n",
       "      <td>4</td>\n",
       "    </tr>\n",
       "    <tr>\n",
       "      <th>4</th>\n",
       "      <td>2</td>\n",
       "      <td>2e-14</td>\n",
       "      <td>0.02</td>\n",
       "      <td>2e+01</td>\n",
       "      <td>3</td>\n",
       "    </tr>\n",
       "  </tbody>\n",
       "</table>\n",
       "</div>"
      ],
      "text/plain": [
       "   z      x   con1   con2    obj\n",
       "0  5      1  2e+01  1e+01  3e+01\n",
       "1  5      1  2e+01  1e+01  3e+01\n",
       "2  3  3e-15      5  2e+01      9\n",
       "3  2  4e-17    0.6  2e+01      4\n",
       "4  2  2e-14   0.02  2e+01      3"
      ]
     },
     "execution_count": 10,
     "metadata": {},
     "output_type": "execute_result"
    }
   ],
   "source": [
    "df.head()"
   ]
  },
  {
   "cell_type": "code",
   "execution_count": 29,
   "id": "428aa120",
   "metadata": {},
   "outputs": [],
   "source": [
    "def pipeline(df=df):\n",
    "    return (\n",
    "        df\n",
    "    )"
   ]
  },
  {
   "cell_type": "code",
   "execution_count": 18,
   "id": "1f4f0ab6",
   "metadata": {},
   "outputs": [
    {
     "data": {},
     "metadata": {},
     "output_type": "display_data"
    },
    {
     "data": {
      "application/vnd.holoviews_exec.v0+json": "",
      "text/html": [
       "<div id='1005'>\n",
       "  <div class=\"bk-root\" id=\"dcca7336-32a2-4c1e-88c8-9cb64c4f35b7\" data-root-id=\"1005\"></div>\n",
       "</div>\n",
       "<script type=\"application/javascript\">(function(root) {\n",
       "  function embed_document(root) {\n",
       "    var docs_json = {\"dd53898e-1321-451a-be77-919101b46396\":{\"defs\":[{\"extends\":null,\"module\":null,\"name\":\"ReactiveHTML1\",\"overrides\":[],\"properties\":[]},{\"extends\":null,\"module\":null,\"name\":\"FlexBox1\",\"overrides\":[],\"properties\":[{\"default\":\"flex-start\",\"kind\":null,\"name\":\"align_content\"},{\"default\":\"flex-start\",\"kind\":null,\"name\":\"align_items\"},{\"default\":\"row\",\"kind\":null,\"name\":\"flex_direction\"},{\"default\":\"wrap\",\"kind\":null,\"name\":\"flex_wrap\"},{\"default\":\"flex-start\",\"kind\":null,\"name\":\"justify_content\"}]},{\"extends\":null,\"module\":null,\"name\":\"GridStack1\",\"overrides\":[],\"properties\":[{\"default\":\"warn\",\"kind\":null,\"name\":\"mode\"},{\"default\":null,\"kind\":null,\"name\":\"ncols\"},{\"default\":null,\"kind\":null,\"name\":\"nrows\"},{\"default\":true,\"kind\":null,\"name\":\"allow_resize\"},{\"default\":true,\"kind\":null,\"name\":\"allow_drag\"},{\"default\":[],\"kind\":null,\"name\":\"state\"}]},{\"extends\":null,\"module\":null,\"name\":\"click1\",\"overrides\":[],\"properties\":[{\"default\":\"\",\"kind\":null,\"name\":\"terminal_output\"},{\"default\":\"\",\"kind\":null,\"name\":\"debug_name\"},{\"default\":0,\"kind\":null,\"name\":\"clears\"}]},{\"extends\":null,\"module\":null,\"name\":\"NotificationAreaBase1\",\"overrides\":[],\"properties\":[{\"default\":\"bottom-right\",\"kind\":null,\"name\":\"position\"},{\"default\":0,\"kind\":null,\"name\":\"_clear\"}]},{\"extends\":null,\"module\":null,\"name\":\"NotificationArea1\",\"overrides\":[],\"properties\":[{\"default\":[],\"kind\":null,\"name\":\"notifications\"},{\"default\":\"bottom-right\",\"kind\":null,\"name\":\"position\"},{\"default\":0,\"kind\":null,\"name\":\"_clear\"},{\"default\":[{\"background\":\"#ffc107\",\"icon\":{\"className\":\"fas fa-exclamation-triangle\",\"color\":\"white\",\"tagName\":\"i\"},\"type\":\"warning\"},{\"background\":\"#007bff\",\"icon\":{\"className\":\"fas fa-info-circle\",\"color\":\"white\",\"tagName\":\"i\"},\"type\":\"info\"}],\"kind\":null,\"name\":\"types\"}]},{\"extends\":null,\"module\":null,\"name\":\"Notification\",\"overrides\":[],\"properties\":[{\"default\":null,\"kind\":null,\"name\":\"background\"},{\"default\":3000,\"kind\":null,\"name\":\"duration\"},{\"default\":null,\"kind\":null,\"name\":\"icon\"},{\"default\":\"\",\"kind\":null,\"name\":\"message\"},{\"default\":null,\"kind\":null,\"name\":\"notification_type\"},{\"default\":false,\"kind\":null,\"name\":\"_destroyed\"}]},{\"extends\":null,\"module\":null,\"name\":\"TemplateActions1\",\"overrides\":[],\"properties\":[{\"default\":0,\"kind\":null,\"name\":\"open_modal\"},{\"default\":0,\"kind\":null,\"name\":\"close_modal\"}]},{\"extends\":null,\"module\":null,\"name\":\"MaterialTemplateActions1\",\"overrides\":[],\"properties\":[{\"default\":0,\"kind\":null,\"name\":\"open_modal\"},{\"default\":0,\"kind\":null,\"name\":\"close_modal\"}]}],\"roots\":{\"references\":[{\"attributes\":{\"end\":10,\"margin\":[5,10,5,10],\"sizing_mode\":\"stretch_width\",\"start\":1,\"title\":\"Line Width\",\"value\":6},\"id\":\"1005\",\"type\":\"Slider\"},{\"attributes\":{\"client_comm_id\":\"9fc377a45431462ba84a6dbb21f8a742\",\"comm_id\":\"6ae9c45b672f47a486fedb6e78e64ae4\",\"plot_id\":\"1005\"},\"id\":\"1006\",\"type\":\"panel.models.comm_manager.CommManager\"}],\"root_ids\":[\"1005\",\"1006\"]},\"title\":\"Bokeh Application\",\"version\":\"2.4.3\"}};\n",
       "    var render_items = [{\"docid\":\"dd53898e-1321-451a-be77-919101b46396\",\"root_ids\":[\"1005\"],\"roots\":{\"1005\":\"dcca7336-32a2-4c1e-88c8-9cb64c4f35b7\"}}];\n",
       "    root.Bokeh.embed.embed_items_notebook(docs_json, render_items);\n",
       "    for (const render_item of render_items) {\n",
       "      for (const root_id of render_item.root_ids) {\n",
       "\tconst id_el = document.getElementById(root_id)\n",
       "\tif (id_el.children.length && (id_el.children[0].className === 'bk-root')) {\n",
       "\t  const root_el = id_el.children[0]\n",
       "\t  root_el.id = root_el.id + '-rendered'\n",
       "\t}\n",
       "      }\n",
       "    }\n",
       "  }\n",
       "  if (root.Bokeh !== undefined && root.Bokeh.Panel !== undefined) {\n",
       "    embed_document(root);\n",
       "  } else {\n",
       "    var attempts = 0;\n",
       "    var timer = setInterval(function(root) {\n",
       "      if (root.Bokeh !== undefined && root.Bokeh.Panel !== undefined) {\n",
       "        clearInterval(timer);\n",
       "        embed_document(root);\n",
       "      } else if (document.readyState == \"complete\") {\n",
       "        attempts++;\n",
       "        if (attempts > 200) {\n",
       "          clearInterval(timer);\n",
       "          console.log(\"Bokeh: ERROR: Unable to run BokehJS code because BokehJS library is missing\");\n",
       "        }\n",
       "      }\n",
       "    }, 25, root)\n",
       "  }\n",
       "})(window);</script>"
      ],
      "text/plain": [
       "IntSlider(end=10, name='Line Width', sizing_mode='stretch_width', start=1, value=6)"
      ]
     },
     "execution_count": 18,
     "metadata": {
      "application/vnd.holoviews_exec.v0+json": {
       "id": "1005"
      }
     },
     "output_type": "execute_result"
    }
   ],
   "source": [
    "line_width = pn.widgets.IntSlider(value=6, start=1, end=10, name=\"Line Width\")\n",
    "line_width"
   ]
  },
  {
   "cell_type": "code",
   "execution_count": 26,
   "id": "64b15db8",
   "metadata": {},
   "outputs": [],
   "source": [
    "variables = pn.widgets.CheckBoxGroup(\n",
    "    name=\"Variables\", value=['z',], options=list(df.columns)\n",
    ")\n",
    "# variables.servable(area=\"sidebar\")"
   ]
  },
  {
   "cell_type": "code",
   "execution_count": 19,
   "id": "cf79d45e",
   "metadata": {},
   "outputs": [],
   "source": [
    "ipipeline = pipeline(df.interactive())"
   ]
  },
  {
   "cell_type": "code",
   "execution_count": 21,
   "id": "732945c5",
   "metadata": {},
   "outputs": [
    {
     "data": {},
     "metadata": {},
     "output_type": "display_data"
    },
    {
     "data": {
      "application/vnd.holoviews_exec.v0+json": "",
      "text/html": [
       "<div id='1688'>\n",
       "  <div class=\"bk-root\" id=\"be686af0-8b86-4890-a1cb-da2fe9e92591\" data-root-id=\"1688\"></div>\n",
       "</div>\n",
       "<script type=\"application/javascript\">(function(root) {\n",
       "  function embed_document(root) {\n",
       "    var docs_json = {\"cf7b1b5d-b72a-4d23-b204-d630f90e0593\":{\"defs\":[{\"extends\":null,\"module\":null,\"name\":\"ReactiveHTML1\",\"overrides\":[],\"properties\":[]},{\"extends\":null,\"module\":null,\"name\":\"FlexBox1\",\"overrides\":[],\"properties\":[{\"default\":\"flex-start\",\"kind\":null,\"name\":\"align_content\"},{\"default\":\"flex-start\",\"kind\":null,\"name\":\"align_items\"},{\"default\":\"row\",\"kind\":null,\"name\":\"flex_direction\"},{\"default\":\"wrap\",\"kind\":null,\"name\":\"flex_wrap\"},{\"default\":\"flex-start\",\"kind\":null,\"name\":\"justify_content\"}]},{\"extends\":null,\"module\":null,\"name\":\"GridStack1\",\"overrides\":[],\"properties\":[{\"default\":\"warn\",\"kind\":null,\"name\":\"mode\"},{\"default\":null,\"kind\":null,\"name\":\"ncols\"},{\"default\":null,\"kind\":null,\"name\":\"nrows\"},{\"default\":true,\"kind\":null,\"name\":\"allow_resize\"},{\"default\":true,\"kind\":null,\"name\":\"allow_drag\"},{\"default\":[],\"kind\":null,\"name\":\"state\"}]},{\"extends\":null,\"module\":null,\"name\":\"click1\",\"overrides\":[],\"properties\":[{\"default\":\"\",\"kind\":null,\"name\":\"terminal_output\"},{\"default\":\"\",\"kind\":null,\"name\":\"debug_name\"},{\"default\":0,\"kind\":null,\"name\":\"clears\"}]},{\"extends\":null,\"module\":null,\"name\":\"NotificationAreaBase1\",\"overrides\":[],\"properties\":[{\"default\":\"bottom-right\",\"kind\":null,\"name\":\"position\"},{\"default\":0,\"kind\":null,\"name\":\"_clear\"}]},{\"extends\":null,\"module\":null,\"name\":\"NotificationArea1\",\"overrides\":[],\"properties\":[{\"default\":[],\"kind\":null,\"name\":\"notifications\"},{\"default\":\"bottom-right\",\"kind\":null,\"name\":\"position\"},{\"default\":0,\"kind\":null,\"name\":\"_clear\"},{\"default\":[{\"background\":\"#ffc107\",\"icon\":{\"className\":\"fas fa-exclamation-triangle\",\"color\":\"white\",\"tagName\":\"i\"},\"type\":\"warning\"},{\"background\":\"#007bff\",\"icon\":{\"className\":\"fas fa-info-circle\",\"color\":\"white\",\"tagName\":\"i\"},\"type\":\"info\"}],\"kind\":null,\"name\":\"types\"}]},{\"extends\":null,\"module\":null,\"name\":\"Notification\",\"overrides\":[],\"properties\":[{\"default\":null,\"kind\":null,\"name\":\"background\"},{\"default\":3000,\"kind\":null,\"name\":\"duration\"},{\"default\":null,\"kind\":null,\"name\":\"icon\"},{\"default\":\"\",\"kind\":null,\"name\":\"message\"},{\"default\":null,\"kind\":null,\"name\":\"notification_type\"},{\"default\":false,\"kind\":null,\"name\":\"_destroyed\"}]},{\"extends\":null,\"module\":null,\"name\":\"TemplateActions1\",\"overrides\":[],\"properties\":[{\"default\":0,\"kind\":null,\"name\":\"open_modal\"},{\"default\":0,\"kind\":null,\"name\":\"close_modal\"}]},{\"extends\":null,\"module\":null,\"name\":\"MaterialTemplateActions1\",\"overrides\":[],\"properties\":[{\"default\":0,\"kind\":null,\"name\":\"open_modal\"},{\"default\":0,\"kind\":null,\"name\":\"close_modal\"}]}],\"roots\":{\"references\":[{\"attributes\":{\"margin\":[0,0,0,0],\"name\":\"Column02437\",\"sizing_mode\":\"stretch_width\"},\"id\":\"1691\",\"type\":\"Column\"},{\"attributes\":{\"margin\":[0,0,0,0],\"name\":\"Column02443\",\"sizing_mode\":\"stretch_width\"},\"id\":\"1694\",\"type\":\"Column\"},{\"attributes\":{\"children\":[{\"id\":\"1696\"}],\"margin\":[0,0,0,0],\"name\":\"Row02442\",\"sizing_mode\":\"stretch_width\"},\"id\":\"1695\",\"type\":\"Row\"},{\"attributes\":{\"children\":[{\"id\":\"1690\"},{\"id\":\"1693\"}],\"margin\":[0,0,0,0],\"name\":\"Column02446\",\"sizing_mode\":\"stretch_width\"},\"id\":\"1689\",\"type\":\"Column\"},{\"attributes\":{\"children\":[{\"id\":\"1689\"}],\"margin\":[0,0,0,0],\"name\":\"Row02447\",\"sizing_mode\":\"stretch_width\"},\"id\":\"1688\",\"type\":\"Row\"},{\"attributes\":{\"margin\":[5,5,5,5],\"name\":\"DataFrame02440\",\"sizing_mode\":\"stretch_width\",\"text\":\"&lt;table border=&quot;0&quot; class=&quot;dataframe panel-df&quot;&gt;\\n  &lt;thead&gt;\\n    &lt;tr style=&quot;text-align: right;&quot;&gt;\\n      &lt;th&gt;&lt;/th&gt;\\n      &lt;th&gt;z&lt;/th&gt;\\n      &lt;th&gt;x&lt;/th&gt;\\n      &lt;th&gt;con1&lt;/th&gt;\\n      &lt;th&gt;con2&lt;/th&gt;\\n      &lt;th&gt;obj&lt;/th&gt;\\n    &lt;/tr&gt;\\n  &lt;/thead&gt;\\n  &lt;tbody&gt;\\n    &lt;tr&gt;\\n      &lt;th&gt;0&lt;/th&gt;\\n      &lt;td&gt;5&lt;/td&gt;\\n      &lt;td&gt;1&lt;/td&gt;\\n      &lt;td&gt;2e+01&lt;/td&gt;\\n      &lt;td&gt;1e+01&lt;/td&gt;\\n      &lt;td&gt;3e+01&lt;/td&gt;\\n    &lt;/tr&gt;\\n    &lt;tr&gt;\\n      &lt;th&gt;1&lt;/th&gt;\\n      &lt;td&gt;5&lt;/td&gt;\\n      &lt;td&gt;1&lt;/td&gt;\\n      &lt;td&gt;2e+01&lt;/td&gt;\\n      &lt;td&gt;1e+01&lt;/td&gt;\\n      &lt;td&gt;3e+01&lt;/td&gt;\\n    &lt;/tr&gt;\\n    &lt;tr&gt;\\n      &lt;th&gt;2&lt;/th&gt;\\n      &lt;td&gt;3&lt;/td&gt;\\n      &lt;td&gt;3e-15&lt;/td&gt;\\n      &lt;td&gt;5&lt;/td&gt;\\n      &lt;td&gt;2e+01&lt;/td&gt;\\n      &lt;td&gt;9&lt;/td&gt;\\n    &lt;/tr&gt;\\n    &lt;tr&gt;\\n      &lt;th&gt;3&lt;/th&gt;\\n      &lt;td&gt;2&lt;/td&gt;\\n      &lt;td&gt;4e-17&lt;/td&gt;\\n      &lt;td&gt;0.6&lt;/td&gt;\\n      &lt;td&gt;2e+01&lt;/td&gt;\\n      &lt;td&gt;4&lt;/td&gt;\\n    &lt;/tr&gt;\\n    &lt;tr&gt;\\n      &lt;th&gt;4&lt;/th&gt;\\n      &lt;td&gt;2&lt;/td&gt;\\n      &lt;td&gt;2e-14&lt;/td&gt;\\n      &lt;td&gt;0.02&lt;/td&gt;\\n      &lt;td&gt;2e+01&lt;/td&gt;\\n      &lt;td&gt;3&lt;/td&gt;\\n    &lt;/tr&gt;\\n  &lt;/tbody&gt;\\n&lt;/table&gt;\"},\"id\":\"1696\",\"type\":\"panel.models.markup.HTML\"},{\"attributes\":{\"children\":[{\"id\":\"1694\"},{\"id\":\"1695\"}],\"margin\":[0,0,0,0],\"name\":\"Column02439\",\"sizing_mode\":\"stretch_width\"},\"id\":\"1693\",\"type\":\"Column\"},{\"attributes\":{\"client_comm_id\":\"2b7d97eb2baf4184b21a1b9047326d9e\",\"comm_id\":\"6526387aa186446fa8317f5462142b91\",\"plot_id\":\"1688\"},\"id\":\"1697\",\"type\":\"panel.models.comm_manager.CommManager\"},{\"attributes\":{\"children\":[{\"id\":\"1691\"},{\"id\":\"1692\"}],\"margin\":[0,0,0,0],\"name\":\"Row02445\",\"sizing_mode\":\"stretch_width\"},\"id\":\"1690\",\"type\":\"Row\"},{\"attributes\":{\"margin\":[5,5,5,5],\"name\":\"HSpacer02444\",\"sizing_mode\":\"stretch_width\"},\"id\":\"1692\",\"type\":\"Spacer\"}],\"root_ids\":[\"1688\",\"1697\"]},\"title\":\"Bokeh Application\",\"version\":\"2.4.3\"}};\n",
       "    var render_items = [{\"docid\":\"cf7b1b5d-b72a-4d23-b204-d630f90e0593\",\"root_ids\":[\"1688\"],\"roots\":{\"1688\":\"be686af0-8b86-4890-a1cb-da2fe9e92591\"}}];\n",
       "    root.Bokeh.embed.embed_items_notebook(docs_json, render_items);\n",
       "    for (const render_item of render_items) {\n",
       "      for (const root_id of render_item.root_ids) {\n",
       "\tconst id_el = document.getElementById(root_id)\n",
       "\tif (id_el.children.length && (id_el.children[0].className === 'bk-root')) {\n",
       "\t  const root_el = id_el.children[0]\n",
       "\t  root_el.id = root_el.id + '-rendered'\n",
       "\t}\n",
       "      }\n",
       "    }\n",
       "  }\n",
       "  if (root.Bokeh !== undefined && root.Bokeh.Panel !== undefined) {\n",
       "    embed_document(root);\n",
       "  } else {\n",
       "    var attempts = 0;\n",
       "    var timer = setInterval(function(root) {\n",
       "      if (root.Bokeh !== undefined && root.Bokeh.Panel !== undefined) {\n",
       "        clearInterval(timer);\n",
       "        embed_document(root);\n",
       "      } else if (document.readyState == \"complete\") {\n",
       "        attempts++;\n",
       "        if (attempts > 200) {\n",
       "          clearInterval(timer);\n",
       "          console.log(\"Bokeh: ERROR: Unable to run BokehJS code because BokehJS library is missing\");\n",
       "        }\n",
       "      }\n",
       "    }, 25, root)\n",
       "  }\n",
       "})(window);</script>"
      ],
      "text/plain": [
       "<hvplot.interactive.Interactive at 0x7ff3c393f400>"
      ]
     },
     "execution_count": 21,
     "metadata": {
      "application/vnd.holoviews_exec.v0+json": {
       "id": "1688"
      }
     },
     "output_type": "execute_result"
    }
   ],
   "source": [
    "ihead = ipipeline.head()\n",
    "ihead"
   ]
  },
  {
   "cell_type": "code",
   "execution_count": 28,
   "id": "8c2d67b8",
   "metadata": {
    "scrolled": true
   },
   "outputs": [
    {
     "data": {},
     "metadata": {},
     "output_type": "display_data"
    },
    {
     "data": {
      "text/html": [
       "Traceback (most recent call last):</br>\n",
       "  File \"/Users/hschilli/anaconda/envs/py38mpi4/lib/python3.8/site-packages/holoviews/plotting/util.py\", line 280, in get_plot_frame</br>\n",
       "    return map_obj[key]</br>\n",
       "  File \"/Users/hschilli/anaconda/envs/py38mpi4/lib/python3.8/site-packages/holoviews/core/spaces.py\", line 1216, in __getitem__</br>\n",
       "    self._cache(tuple_key, val)</br>\n",
       "  File \"/Users/hschilli/anaconda/envs/py38mpi4/lib/python3.8/site-packages/holoviews/core/spaces.py\", line 1289, in _cache</br>\n",
       "    self[key] = val</br>\n",
       "  File \"/Users/hschilli/anaconda/envs/py38mpi4/lib/python3.8/site-packages/holoviews/core/ndmapping.py\", line 564, in __setitem__</br>\n",
       "    self._add_item(key, value, update=False)</br>\n",
       "  File \"/Users/hschilli/anaconda/envs/py38mpi4/lib/python3.8/site-packages/holoviews/core/ndmapping.py\", line 164, in _add_item</br>\n",
       "    self._item_check(dim_vals, data)</br>\n",
       "  File \"/Users/hschilli/anaconda/envs/py38mpi4/lib/python3.8/site-packages/holoviews/core/ndmapping.py\", line 977, in _item_check</br>\n",
       "    raise AssertionError(\"%s must only contain one type of object, not both %s and %s.\" %</br>\n",
       "AssertionError: DynamicMap must only contain one type of object, not both NdOverlay and Curve.</br>\n",
       "</br>\n",
       "Traceback (most recent call last):</br>\n",
       "  File \"/Users/hschilli/anaconda/envs/py38mpi4/lib/python3.8/site-packages/holoviews/plotting/util.py\", line 280, in get_plot_frame</br>\n",
       "    return map_obj[key]</br>\n",
       "  File \"/Users/hschilli/anaconda/envs/py38mpi4/lib/python3.8/site-packages/holoviews/core/spaces.py\", line 1216, in __getitem__</br>\n",
       "    self._cache(tuple_key, val)</br>\n",
       "  File \"/Users/hschilli/anaconda/envs/py38mpi4/lib/python3.8/site-packages/holoviews/core/spaces.py\", line 1289, in _cache</br>\n",
       "    self[key] = val</br>\n",
       "  File \"/Users/hschilli/anaconda/envs/py38mpi4/lib/python3.8/site-packages/holoviews/core/ndmapping.py\", line 564, in __setitem__</br>\n",
       "    self._add_item(key, value, update=False)</br>\n",
       "  File \"/Users/hschilli/anaconda/envs/py38mpi4/lib/python3.8/site-packages/holoviews/core/ndmapping.py\", line 164, in _add_item</br>\n",
       "    self._item_check(dim_vals, data)</br>\n",
       "  File \"/Users/hschilli/anaconda/envs/py38mpi4/lib/python3.8/site-packages/holoviews/core/ndmapping.py\", line 977, in _item_check</br>\n",
       "    raise AssertionError(\"%s must only contain one type of object, not both %s and %s.\" %</br>\n",
       "AssertionError: DynamicMap must only contain one type of object, not both NdOverlay and Curve.</br>\n",
       "</br>\n",
       "Traceback (most recent call last):</br>\n",
       "  File \"/Users/hschilli/anaconda/envs/py38mpi4/lib/python3.8/site-packages/holoviews/plotting/util.py\", line 280, in get_plot_frame</br>\n",
       "    return map_obj[key]</br>\n",
       "  File \"/Users/hschilli/anaconda/envs/py38mpi4/lib/python3.8/site-packages/holoviews/core/spaces.py\", line 1216, in __getitem__</br>\n",
       "    self._cache(tuple_key, val)</br>\n",
       "  File \"/Users/hschilli/anaconda/envs/py38mpi4/lib/python3.8/site-packages/holoviews/core/spaces.py\", line 1289, in _cache</br>\n",
       "    self[key] = val</br>\n",
       "  File \"/Users/hschilli/anaconda/envs/py38mpi4/lib/python3.8/site-packages/holoviews/core/ndmapping.py\", line 564, in __setitem__</br>\n",
       "    self._add_item(key, value, update=False)</br>\n",
       "  File \"/Users/hschilli/anaconda/envs/py38mpi4/lib/python3.8/site-packages/holoviews/core/ndmapping.py\", line 164, in _add_item</br>\n",
       "    self._item_check(dim_vals, data)</br>\n",
       "  File \"/Users/hschilli/anaconda/envs/py38mpi4/lib/python3.8/site-packages/holoviews/core/ndmapping.py\", line 977, in _item_check</br>\n",
       "    raise AssertionError(\"%s must only contain one type of object, not both %s and %s.\" %</br>\n",
       "AssertionError: DynamicMap must only contain one type of object, not both NdOverlay and Curve.</br>\n",
       "</br>\n",
       "Traceback (most recent call last):</br>\n",
       "  File \"/Users/hschilli/anaconda/envs/py38mpi4/lib/python3.8/site-packages/holoviews/plotting/util.py\", line 280, in get_plot_frame</br>\n",
       "    return map_obj[key]</br>\n",
       "  File \"/Users/hschilli/anaconda/envs/py38mpi4/lib/python3.8/site-packages/holoviews/core/spaces.py\", line 1216, in __getitem__</br>\n",
       "    self._cache(tuple_key, val)</br>\n",
       "  File \"/Users/hschilli/anaconda/envs/py38mpi4/lib/python3.8/site-packages/holoviews/core/spaces.py\", line 1289, in _cache</br>\n",
       "    self[key] = val</br>\n",
       "  File \"/Users/hschilli/anaconda/envs/py38mpi4/lib/python3.8/site-packages/holoviews/core/ndmapping.py\", line 564, in __setitem__</br>\n",
       "    self._add_item(key, value, update=False)</br>\n",
       "  File \"/Users/hschilli/anaconda/envs/py38mpi4/lib/python3.8/site-packages/holoviews/core/ndmapping.py\", line 164, in _add_item</br>\n",
       "    self._item_check(dim_vals, data)</br>\n",
       "  File \"/Users/hschilli/anaconda/envs/py38mpi4/lib/python3.8/site-packages/holoviews/core/ndmapping.py\", line 977, in _item_check</br>\n",
       "    raise AssertionError(\"%s must only contain one type of object, not both %s and %s.\" %</br>\n",
       "AssertionError: DynamicMap must only contain one type of object, not both NdOverlay and Curve.</br>\n",
       "</br>"
      ]
     },
     "metadata": {},
     "output_type": "display_data"
    },
    {
     "data": {
      "application/vnd.holoviews_exec.v0+json": "",
      "text/html": [
       "<div id='1986'>\n",
       "  <div class=\"bk-root\" id=\"2b4169aa-2b87-46b4-802f-6cea6948b05e\" data-root-id=\"1986\"></div>\n",
       "</div>\n",
       "<script type=\"application/javascript\">(function(root) {\n",
       "  function embed_document(root) {\n",
       "    var docs_json = {\"2e403807-5ad5-4e36-9664-ca21ad5d57ac\":{\"defs\":[{\"extends\":null,\"module\":null,\"name\":\"ReactiveHTML1\",\"overrides\":[],\"properties\":[]},{\"extends\":null,\"module\":null,\"name\":\"FlexBox1\",\"overrides\":[],\"properties\":[{\"default\":\"flex-start\",\"kind\":null,\"name\":\"align_content\"},{\"default\":\"flex-start\",\"kind\":null,\"name\":\"align_items\"},{\"default\":\"row\",\"kind\":null,\"name\":\"flex_direction\"},{\"default\":\"wrap\",\"kind\":null,\"name\":\"flex_wrap\"},{\"default\":\"flex-start\",\"kind\":null,\"name\":\"justify_content\"}]},{\"extends\":null,\"module\":null,\"name\":\"GridStack1\",\"overrides\":[],\"properties\":[{\"default\":\"warn\",\"kind\":null,\"name\":\"mode\"},{\"default\":null,\"kind\":null,\"name\":\"ncols\"},{\"default\":null,\"kind\":null,\"name\":\"nrows\"},{\"default\":true,\"kind\":null,\"name\":\"allow_resize\"},{\"default\":true,\"kind\":null,\"name\":\"allow_drag\"},{\"default\":[],\"kind\":null,\"name\":\"state\"}]},{\"extends\":null,\"module\":null,\"name\":\"click1\",\"overrides\":[],\"properties\":[{\"default\":\"\",\"kind\":null,\"name\":\"terminal_output\"},{\"default\":\"\",\"kind\":null,\"name\":\"debug_name\"},{\"default\":0,\"kind\":null,\"name\":\"clears\"}]},{\"extends\":null,\"module\":null,\"name\":\"NotificationAreaBase1\",\"overrides\":[],\"properties\":[{\"default\":\"bottom-right\",\"kind\":null,\"name\":\"position\"},{\"default\":0,\"kind\":null,\"name\":\"_clear\"}]},{\"extends\":null,\"module\":null,\"name\":\"NotificationArea1\",\"overrides\":[],\"properties\":[{\"default\":[],\"kind\":null,\"name\":\"notifications\"},{\"default\":\"bottom-right\",\"kind\":null,\"name\":\"position\"},{\"default\":0,\"kind\":null,\"name\":\"_clear\"},{\"default\":[{\"background\":\"#ffc107\",\"icon\":{\"className\":\"fas fa-exclamation-triangle\",\"color\":\"white\",\"tagName\":\"i\"},\"type\":\"warning\"},{\"background\":\"#007bff\",\"icon\":{\"className\":\"fas fa-info-circle\",\"color\":\"white\",\"tagName\":\"i\"},\"type\":\"info\"}],\"kind\":null,\"name\":\"types\"}]},{\"extends\":null,\"module\":null,\"name\":\"Notification\",\"overrides\":[],\"properties\":[{\"default\":null,\"kind\":null,\"name\":\"background\"},{\"default\":3000,\"kind\":null,\"name\":\"duration\"},{\"default\":null,\"kind\":null,\"name\":\"icon\"},{\"default\":\"\",\"kind\":null,\"name\":\"message\"},{\"default\":null,\"kind\":null,\"name\":\"notification_type\"},{\"default\":false,\"kind\":null,\"name\":\"_destroyed\"}]},{\"extends\":null,\"module\":null,\"name\":\"TemplateActions1\",\"overrides\":[],\"properties\":[{\"default\":0,\"kind\":null,\"name\":\"open_modal\"},{\"default\":0,\"kind\":null,\"name\":\"close_modal\"}]},{\"extends\":null,\"module\":null,\"name\":\"MaterialTemplateActions1\",\"overrides\":[],\"properties\":[{\"default\":0,\"kind\":null,\"name\":\"open_modal\"},{\"default\":0,\"kind\":null,\"name\":\"close_modal\"}]}],\"roots\":{\"references\":[{\"attributes\":{\"children\":[{\"id\":\"1989\"},{\"id\":\"1992\"}],\"margin\":[0,0,0,0],\"name\":\"Row03726\",\"sizing_mode\":\"stretch_width\"},\"id\":\"1988\",\"type\":\"Row\"},{\"attributes\":{},\"id\":\"2122\",\"type\":\"UnionRenderers\"},{\"attributes\":{\"label\":{\"value\":\"obj\"},\"renderers\":[{\"id\":\"2108\"}]},\"id\":\"2125\",\"type\":\"LegendItem\"},{\"attributes\":{},\"id\":\"2039\",\"type\":\"Selection\"},{\"attributes\":{\"source\":{\"id\":\"2102\"}},\"id\":\"2109\",\"type\":\"CDSView\"},{\"attributes\":{},\"id\":\"2052\",\"type\":\"UnionRenderers\"},{\"attributes\":{\"line_alpha\":0.1,\"line_color\":\"#ff6f69\",\"line_width\":9,\"tags\":[\"apply_ranges\"],\"x\":{\"field\":\"index\"},\"y\":{\"field\":\"value\"}},\"id\":\"2042\",\"type\":\"Line\"},{\"attributes\":{\"client_comm_id\":\"07eed91db5704717ba36567845a0e903\",\"comm_id\":\"75b64bd2dc5c46ed9ade1e15fa1e311a\",\"plot_id\":\"1986\"},\"id\":\"2191\",\"type\":\"panel.models.comm_manager.CommManager\"},{\"attributes\":{\"children\":[{\"id\":\"1988\"},{\"id\":\"1999\"}],\"margin\":[0,0,0,0],\"name\":\"Column03732\",\"sizing_mode\":\"stretch_width\"},\"id\":\"1987\",\"type\":\"Column\"},{\"attributes\":{\"line_color\":\"#ff6f69\",\"line_width\":9,\"tags\":[\"apply_ranges\"],\"x\":{\"field\":\"index\"},\"y\":{\"field\":\"value\"}},\"id\":\"2041\",\"type\":\"Line\"},{\"attributes\":{\"label\":{\"value\":\"con2\"},\"renderers\":[{\"id\":\"2085\"}]},\"id\":\"2100\",\"type\":\"LegendItem\"},{\"attributes\":{\"line_color\":\"#ffcc5c\",\"line_width\":9,\"tags\":[\"apply_ranges\"],\"x\":{\"field\":\"index\"},\"y\":{\"field\":\"value\"}},\"id\":\"2078\",\"type\":\"Line\"},{\"attributes\":{\"format\":\"%.0f\"},\"id\":\"2029\",\"type\":\"PrintfTickFormatter\"},{\"attributes\":{\"line_alpha\":0.2,\"line_color\":\"#88d8b0\",\"line_width\":9,\"tags\":[\"apply_ranges\"],\"x\":{\"field\":\"index\"},\"y\":{\"field\":\"value\"}},\"id\":\"2084\",\"type\":\"Line\"},{\"attributes\":{\"line_color\":\"#ff6f69\",\"line_width\":9,\"tags\":[\"apply_ranges\"],\"x\":{\"field\":\"index\"},\"y\":{\"field\":\"value\"}},\"id\":\"2126\",\"type\":\"Line\"},{\"attributes\":{},\"id\":\"2032\",\"type\":\"AllLabels\"},{\"attributes\":{\"end\":6.0,\"reset_end\":6.0,\"reset_start\":0.0,\"tags\":[[[\"index\",\"index\",null]]]},\"id\":\"1993\",\"type\":\"Range1d\"},{\"attributes\":{},\"id\":\"2031\",\"type\":\"BasicTickFormatter\"},{\"attributes\":{\"children\":[{\"id\":\"1990\"},{\"id\":\"1991\"}],\"margin\":[0,0,0,0],\"name\":\"Column03721\",\"sizing_mode\":\"stretch_width\"},\"id\":\"1989\",\"type\":\"Column\"},{\"attributes\":{\"line_color\":\"#88d8b0\",\"line_width\":9,\"tags\":[\"apply_ranges\"],\"x\":{\"field\":\"index\"},\"y\":{\"field\":\"value\"}},\"id\":\"2082\",\"type\":\"Line\"},{\"attributes\":{\"line_alpha\":0.2,\"line_color\":\"#ff6f69\",\"line_width\":9,\"tags\":[\"apply_ranges\"],\"x\":{\"field\":\"index\"},\"y\":{\"field\":\"value\"}},\"id\":\"2043\",\"type\":\"Line\"},{\"attributes\":{},\"id\":\"2103\",\"type\":\"Selection\"},{\"attributes\":{},\"id\":\"2080\",\"type\":\"Selection\"},{\"attributes\":{\"line_alpha\":0.1,\"line_color\":\"#88d8b0\",\"line_width\":9,\"tags\":[\"apply_ranges\"],\"x\":{\"field\":\"index\"},\"y\":{\"field\":\"value\"}},\"id\":\"2083\",\"type\":\"Line\"},{\"attributes\":{},\"id\":\"2035\",\"type\":\"AllLabels\"},{\"attributes\":{\"coordinates\":null,\"data_source\":{\"id\":\"2079\"},\"glyph\":{\"id\":\"2082\"},\"group\":null,\"hover_glyph\":null,\"muted_glyph\":{\"id\":\"2084\"},\"nonselection_glyph\":{\"id\":\"2083\"},\"selection_glyph\":{\"id\":\"2101\"},\"view\":{\"id\":\"2086\"}},\"id\":\"2085\",\"type\":\"GlyphRenderer\"},{\"attributes\":{},\"id\":\"2004\",\"type\":\"LinearScale\"},{\"attributes\":{\"coordinates\":null,\"group\":null,\"text\":\"Sellar Model Optimization using OpenMDAO\",\"text_color\":\"black\",\"text_font_size\":\"12pt\"},\"id\":\"2000\",\"type\":\"Title\"},{\"attributes\":{\"source\":{\"id\":\"2079\"}},\"id\":\"2086\",\"type\":\"CDSView\"},{\"attributes\":{\"end\":31.447138981537183,\"reset_end\":31.447138981537183,\"reset_start\":-2.8588308165033802,\"start\":-2.8588308165033802,\"tags\":[[[\"value\",\"value\",null]]]},\"id\":\"1994\",\"type\":\"Range1d\"},{\"attributes\":{\"data\":{\"Variable\":[\"x\",\"x\",\"x\",\"x\",\"x\",\"x\",\"x\"],\"index\":[0,1,2,3,4,5,6],\"value\":{\"__ndarray__\":\"AAAAAAAA8D8AAAAAAADwPwAAAAAAAOo8AMyy+NbHhzye34vOThwUPVZROCbqJAA9AAAAAAAAAAA=\",\"dtype\":\"float64\",\"order\":\"little\",\"shape\":[7]}},\"selected\":{\"id\":\"2059\"},\"selection_policy\":{\"id\":\"2074\"}},\"id\":\"2058\",\"type\":\"ColumnDataSource\"},{\"attributes\":{\"callback\":null,\"renderers\":[{\"id\":\"2044\"},{\"id\":\"2064\"},{\"id\":\"2085\"},{\"id\":\"2108\"}],\"tags\":[\"hv_created\"],\"tooltips\":[[\"Variable\",\"@{Variable}\"],[\"index\",\"@{index}\"],[\"value\",\"@{value}\"]]},\"id\":\"1995\",\"type\":\"HoverTool\"},{\"attributes\":{\"coordinates\":null,\"data_source\":{\"id\":\"2038\"},\"glyph\":{\"id\":\"2041\"},\"group\":null,\"hover_glyph\":null,\"muted_glyph\":{\"id\":\"2043\"},\"nonselection_glyph\":{\"id\":\"2042\"},\"selection_glyph\":{\"id\":\"2057\"},\"view\":{\"id\":\"2045\"}},\"id\":\"2044\",\"type\":\"GlyphRenderer\"},{\"attributes\":{\"label\":{\"value\":\"x\"},\"renderers\":[{\"id\":\"2064\"}]},\"id\":\"2077\",\"type\":\"LegendItem\"},{\"attributes\":{\"label\":{\"value\":\"z\"},\"renderers\":[{\"id\":\"2044\"}]},\"id\":\"2056\",\"type\":\"LegendItem\"},{\"attributes\":{\"line_color\":\"#ff6f69\",\"line_width\":9,\"tags\":[\"apply_ranges\"],\"x\":{\"field\":\"index\"},\"y\":{\"field\":\"value\"}},\"id\":\"2057\",\"type\":\"Line\"},{\"attributes\":{\"click_policy\":\"mute\",\"coordinates\":null,\"group\":null,\"items\":[{\"id\":\"2056\"},{\"id\":\"2077\"},{\"id\":\"2100\"},{\"id\":\"2125\"}],\"location\":[0,0],\"title\":\"Variable\"},\"id\":\"2055\",\"type\":\"Legend\"},{\"attributes\":{\"children\":[{\"id\":\"1987\"}],\"margin\":[0,0,0,0],\"name\":\"Row03733\",\"sizing_mode\":\"stretch_width\"},\"id\":\"1986\",\"type\":\"Row\"},{\"attributes\":{\"source\":{\"id\":\"2038\"}},\"id\":\"2045\",\"type\":\"CDSView\"},{\"attributes\":{\"axis_label\":\"\",\"coordinates\":null,\"formatter\":{\"id\":\"2031\"},\"group\":null,\"major_label_policy\":{\"id\":\"2032\"},\"ticker\":{\"id\":\"2009\"}},\"id\":\"2008\",\"type\":\"LinearAxis\"},{\"attributes\":{\"margin\":[5,5,5,5],\"name\":\"HSpacer03725\",\"sizing_mode\":\"stretch_width\"},\"id\":\"1992\",\"type\":\"Spacer\"},{\"attributes\":{},\"id\":\"2006\",\"type\":\"LinearScale\"},{\"attributes\":{\"line_color\":\"#ffcc5c\",\"line_width\":9,\"tags\":[\"apply_ranges\"],\"x\":{\"field\":\"index\"},\"y\":{\"field\":\"value\"}},\"id\":\"2061\",\"type\":\"Line\"},{\"attributes\":{},\"id\":\"2009\",\"type\":\"BasicTicker\"},{\"attributes\":{\"active\":[0,1,3,4],\"labels\":[\"z\",\"x\",\"con1\",\"con2\",\"obj\"],\"margin\":[5,10,5,10],\"sizing_mode\":\"stretch_width\"},\"id\":\"1990\",\"type\":\"CheckboxGroup\"},{\"attributes\":{},\"id\":\"2017\",\"type\":\"PanTool\"},{\"attributes\":{},\"id\":\"2097\",\"type\":\"UnionRenderers\"},{\"attributes\":{\"below\":[{\"id\":\"2008\"}],\"center\":[{\"id\":\"2011\"},{\"id\":\"2015\"}],\"height\":null,\"left\":[{\"id\":\"2012\"}],\"margin\":[5,5,5,5],\"min_border_bottom\":10,\"min_border_left\":10,\"min_border_right\":10,\"min_border_top\":10,\"min_height\":400,\"output_backend\":\"webgl\",\"renderers\":[{\"id\":\"2044\"},{\"id\":\"2064\"},{\"id\":\"2085\"},{\"id\":\"2108\"}],\"right\":[{\"id\":\"2055\"}],\"sizing_mode\":\"stretch_both\",\"title\":{\"id\":\"2000\"},\"toolbar\":{\"id\":\"2022\"},\"width\":null,\"x_range\":{\"id\":\"1993\"},\"x_scale\":{\"id\":\"2004\"},\"y_range\":{\"id\":\"1994\"},\"y_scale\":{\"id\":\"2006\"}},\"id\":\"1999\",\"subtype\":\"Figure\",\"type\":\"Plot\"},{\"attributes\":{\"end\":10,\"margin\":[5,10,5,10],\"sizing_mode\":\"stretch_width\",\"start\":1,\"title\":\"Line Width\",\"value\":9},\"id\":\"1991\",\"type\":\"Slider\"},{\"attributes\":{\"line_color\":\"#88d8b0\",\"line_width\":9,\"tags\":[\"apply_ranges\"],\"x\":{\"field\":\"index\"},\"y\":{\"field\":\"value\"}},\"id\":\"2101\",\"type\":\"Line\"},{\"attributes\":{\"line_alpha\":0.2,\"line_color\":\"#ffcc5c\",\"line_width\":9,\"tags\":[\"apply_ranges\"],\"x\":{\"field\":\"index\"},\"y\":{\"field\":\"value\"}},\"id\":\"2063\",\"type\":\"Line\"},{\"attributes\":{},\"id\":\"2020\",\"type\":\"ResetTool\"},{\"attributes\":{\"coordinates\":null,\"data_source\":{\"id\":\"2102\"},\"glyph\":{\"id\":\"2105\"},\"group\":null,\"hover_glyph\":null,\"muted_glyph\":{\"id\":\"2107\"},\"nonselection_glyph\":{\"id\":\"2106\"},\"selection_glyph\":{\"id\":\"2126\"},\"view\":{\"id\":\"2109\"}},\"id\":\"2108\",\"type\":\"GlyphRenderer\"},{\"attributes\":{\"axis\":{\"id\":\"2008\"},\"coordinates\":null,\"grid_line_color\":null,\"group\":null,\"ticker\":null},\"id\":\"2011\",\"type\":\"Grid\"},{\"attributes\":{},\"id\":\"2059\",\"type\":\"Selection\"},{\"attributes\":{\"data\":{\"Variable\":[\"z\",\"z\",\"z\",\"z\",\"z\",\"z\",\"z\"],\"index\":[0,1,2,3,4,5,6],\"value\":{\"__ndarray__\":\"89mopGiKFUDz2aikaIoVQNavjvZ12AdArahnKLYCAUD+VMeb6bv/P1rUlFlypP8/1fp9q2ik/z8=\",\"dtype\":\"float64\",\"order\":\"little\",\"shape\":[7]}},\"selected\":{\"id\":\"2039\"},\"selection_policy\":{\"id\":\"2052\"}},\"id\":\"2038\",\"type\":\"ColumnDataSource\"},{\"attributes\":{\"line_alpha\":0.1,\"line_color\":\"#ffcc5c\",\"line_width\":9,\"tags\":[\"apply_ranges\"],\"x\":{\"field\":\"index\"},\"y\":{\"field\":\"value\"}},\"id\":\"2062\",\"type\":\"Line\"},{\"attributes\":{\"axis_label\":\"\",\"coordinates\":null,\"formatter\":{\"id\":\"2029\"},\"group\":null,\"major_label_policy\":{\"id\":\"2035\"},\"ticker\":{\"id\":\"2013\"}},\"id\":\"2012\",\"type\":\"LinearAxis\"},{\"attributes\":{\"axis\":{\"id\":\"2012\"},\"coordinates\":null,\"dimension\":1,\"grid_line_color\":null,\"group\":null,\"ticker\":null},\"id\":\"2015\",\"type\":\"Grid\"},{\"attributes\":{\"data\":{\"Variable\":[\"con2\",\"con2\",\"con2\",\"con2\",\"con2\",\"con2\",\"con2\"],\"index\":[0,1,2,3,4,5,6],\"value\":{\"__ndarray__\":\"e9dT1w3iJ0Dq1lPXDeInQIpa4Hd7hzFApEgZqYXyM0DURbr/tTs0QJ6YAOikPjRAMXPDHaY+NEA=\",\"dtype\":\"float64\",\"order\":\"little\",\"shape\":[7]}},\"selected\":{\"id\":\"2080\"},\"selection_policy\":{\"id\":\"2097\"}},\"id\":\"2079\",\"type\":\"ColumnDataSource\"},{\"attributes\":{\"coordinates\":null,\"data_source\":{\"id\":\"2058\"},\"glyph\":{\"id\":\"2061\"},\"group\":null,\"hover_glyph\":null,\"muted_glyph\":{\"id\":\"2063\"},\"nonselection_glyph\":{\"id\":\"2062\"},\"selection_glyph\":{\"id\":\"2078\"},\"view\":{\"id\":\"2065\"}},\"id\":\"2064\",\"type\":\"GlyphRenderer\"},{\"attributes\":{},\"id\":\"2013\",\"type\":\"BasicTicker\"},{\"attributes\":{\"line_alpha\":0.1,\"line_color\":\"#ff6f69\",\"line_width\":9,\"tags\":[\"apply_ranges\"],\"x\":{\"field\":\"index\"},\"y\":{\"field\":\"value\"}},\"id\":\"2106\",\"type\":\"Line\"},{\"attributes\":{},\"id\":\"2018\",\"type\":\"WheelZoomTool\"},{\"attributes\":{\"source\":{\"id\":\"2058\"}},\"id\":\"2065\",\"type\":\"CDSView\"},{\"attributes\":{\"line_alpha\":0.2,\"line_color\":\"#ff6f69\",\"line_width\":9,\"tags\":[\"apply_ranges\"],\"x\":{\"field\":\"index\"},\"y\":{\"field\":\"value\"}},\"id\":\"2107\",\"type\":\"Line\"},{\"attributes\":{},\"id\":\"2016\",\"type\":\"SaveTool\"},{\"attributes\":{\"data\":{\"Variable\":[\"obj\",\"obj\",\"obj\",\"obj\",\"obj\",\"obj\",\"obj\"],\"index\":[0,1,2,3,4,5,6],\"value\":{\"__ndarray__\":\"XMcoXZuWPEA6yihdm5Y8QEnvWaeAHyFAc905VSbTDUBAaASA5KAJQKN+tzqodwlAJZKHP5d3CUA=\",\"dtype\":\"float64\",\"order\":\"little\",\"shape\":[7]}},\"selected\":{\"id\":\"2103\"},\"selection_policy\":{\"id\":\"2122\"}},\"id\":\"2102\",\"type\":\"ColumnDataSource\"},{\"attributes\":{\"bottom_units\":\"screen\",\"coordinates\":null,\"fill_alpha\":0.5,\"fill_color\":\"lightgrey\",\"group\":null,\"left_units\":\"screen\",\"level\":\"overlay\",\"line_alpha\":1.0,\"line_color\":\"black\",\"line_dash\":[4,4],\"line_width\":2,\"right_units\":\"screen\",\"syncable\":false,\"top_units\":\"screen\"},\"id\":\"2021\",\"type\":\"BoxAnnotation\"},{\"attributes\":{\"line_color\":\"#ff6f69\",\"line_width\":9,\"tags\":[\"apply_ranges\"],\"x\":{\"field\":\"index\"},\"y\":{\"field\":\"value\"}},\"id\":\"2105\",\"type\":\"Line\"},{\"attributes\":{\"overlay\":{\"id\":\"2021\"}},\"id\":\"2019\",\"type\":\"BoxZoomTool\"},{\"attributes\":{},\"id\":\"2074\",\"type\":\"UnionRenderers\"},{\"attributes\":{\"active_drag\":{\"id\":\"2017\"},\"active_scroll\":{\"id\":\"2018\"},\"tools\":[{\"id\":\"1995\"},{\"id\":\"2016\"},{\"id\":\"2017\"},{\"id\":\"2018\"},{\"id\":\"2019\"},{\"id\":\"2020\"}]},\"id\":\"2022\",\"type\":\"Toolbar\"}],\"root_ids\":[\"1986\",\"2191\"]},\"title\":\"Bokeh Application\",\"version\":\"2.4.3\"}};\n",
       "    var render_items = [{\"docid\":\"2e403807-5ad5-4e36-9664-ca21ad5d57ac\",\"root_ids\":[\"1986\"],\"roots\":{\"1986\":\"2b4169aa-2b87-46b4-802f-6cea6948b05e\"}}];\n",
       "    root.Bokeh.embed.embed_items_notebook(docs_json, render_items);\n",
       "    for (const render_item of render_items) {\n",
       "      for (const root_id of render_item.root_ids) {\n",
       "\tconst id_el = document.getElementById(root_id)\n",
       "\tif (id_el.children.length && (id_el.children[0].className === 'bk-root')) {\n",
       "\t  const root_el = id_el.children[0]\n",
       "\t  root_el.id = root_el.id + '-rendered'\n",
       "\t}\n",
       "      }\n",
       "    }\n",
       "  }\n",
       "  if (root.Bokeh !== undefined && root.Bokeh.Panel !== undefined) {\n",
       "    embed_document(root);\n",
       "  } else {\n",
       "    var attempts = 0;\n",
       "    var timer = setInterval(function(root) {\n",
       "      if (root.Bokeh !== undefined && root.Bokeh.Panel !== undefined) {\n",
       "        clearInterval(timer);\n",
       "        embed_document(root);\n",
       "      } else if (document.readyState == \"complete\") {\n",
       "        attempts++;\n",
       "        if (attempts > 200) {\n",
       "          clearInterval(timer);\n",
       "          console.log(\"Bokeh: ERROR: Unable to run BokehJS code because BokehJS library is missing\");\n",
       "        }\n",
       "      }\n",
       "    }, 25, root)\n",
       "  }\n",
       "})(window);</script>"
      ],
      "text/plain": [
       "<hvplot.interactive.Interactive at 0x7ff3c3afa400>"
      ]
     },
     "execution_count": 28,
     "metadata": {
      "application/vnd.holoviews_exec.v0+json": {
       "id": "1986"
      }
     },
     "output_type": "execute_result"
    }
   ],
   "source": [
    "ihvplot = ipipeline.hvplot(y=variables,responsive=True, min_height=400, color=PALETTE, line_width=line_width, yformatter=\"%.0f\", title=\"Sellar Model Optimization using OpenMDAO\")\n",
    "ihvplot"
   ]
  },
  {
   "cell_type": "code",
   "execution_count": 22,
   "id": "2efc25f1",
   "metadata": {},
   "outputs": [],
   "source": [
    "pn.template.FastListTemplate(\n",
    "    site=\"\", title=\"OpenMDAO Dashboard using hvplot\",\n",
    "    sidebar=[line_width, variables],\n",
    "    main=[ihead.panel(), ihvplot.panel()], \n",
    "    accent_base_color=ACCENT_BASE_COLOR,header_background=ACCENT_BASE_COLOR,\n",
    ").servable();"
   ]
  },
  {
   "cell_type": "code",
   "execution_count": 12,
   "id": "39f6d1ce",
   "metadata": {},
   "outputs": [
    {
     "data": {},
     "metadata": {},
     "output_type": "display_data"
    },
    {
     "data": {
      "application/vnd.holoviews_exec.v0+json": "",
      "text/html": [
       "<div id='1005'>\n",
       "  <div class=\"bk-root\" id=\"14e17527-bbb4-4a1b-8fa3-553988d02359\" data-root-id=\"1005\"></div>\n",
       "</div>\n",
       "<script type=\"application/javascript\">(function(root) {\n",
       "  function embed_document(root) {\n",
       "    var docs_json = {\"27280af4-0f9a-4a37-95b5-5e342a9f7752\":{\"defs\":[{\"extends\":null,\"module\":null,\"name\":\"ReactiveHTML1\",\"overrides\":[],\"properties\":[]},{\"extends\":null,\"module\":null,\"name\":\"FlexBox1\",\"overrides\":[],\"properties\":[{\"default\":\"flex-start\",\"kind\":null,\"name\":\"align_content\"},{\"default\":\"flex-start\",\"kind\":null,\"name\":\"align_items\"},{\"default\":\"row\",\"kind\":null,\"name\":\"flex_direction\"},{\"default\":\"wrap\",\"kind\":null,\"name\":\"flex_wrap\"},{\"default\":\"flex-start\",\"kind\":null,\"name\":\"justify_content\"}]},{\"extends\":null,\"module\":null,\"name\":\"GridStack1\",\"overrides\":[],\"properties\":[{\"default\":\"warn\",\"kind\":null,\"name\":\"mode\"},{\"default\":null,\"kind\":null,\"name\":\"ncols\"},{\"default\":null,\"kind\":null,\"name\":\"nrows\"},{\"default\":true,\"kind\":null,\"name\":\"allow_resize\"},{\"default\":true,\"kind\":null,\"name\":\"allow_drag\"},{\"default\":[],\"kind\":null,\"name\":\"state\"}]},{\"extends\":null,\"module\":null,\"name\":\"click1\",\"overrides\":[],\"properties\":[{\"default\":\"\",\"kind\":null,\"name\":\"terminal_output\"},{\"default\":\"\",\"kind\":null,\"name\":\"debug_name\"},{\"default\":0,\"kind\":null,\"name\":\"clears\"}]},{\"extends\":null,\"module\":null,\"name\":\"NotificationAreaBase1\",\"overrides\":[],\"properties\":[{\"default\":\"bottom-right\",\"kind\":null,\"name\":\"position\"},{\"default\":0,\"kind\":null,\"name\":\"_clear\"}]},{\"extends\":null,\"module\":null,\"name\":\"NotificationArea1\",\"overrides\":[],\"properties\":[{\"default\":[],\"kind\":null,\"name\":\"notifications\"},{\"default\":\"bottom-right\",\"kind\":null,\"name\":\"position\"},{\"default\":0,\"kind\":null,\"name\":\"_clear\"},{\"default\":[{\"background\":\"#ffc107\",\"icon\":{\"className\":\"fas fa-exclamation-triangle\",\"color\":\"white\",\"tagName\":\"i\"},\"type\":\"warning\"},{\"background\":\"#007bff\",\"icon\":{\"className\":\"fas fa-info-circle\",\"color\":\"white\",\"tagName\":\"i\"},\"type\":\"info\"}],\"kind\":null,\"name\":\"types\"}]},{\"extends\":null,\"module\":null,\"name\":\"Notification\",\"overrides\":[],\"properties\":[{\"default\":null,\"kind\":null,\"name\":\"background\"},{\"default\":3000,\"kind\":null,\"name\":\"duration\"},{\"default\":null,\"kind\":null,\"name\":\"icon\"},{\"default\":\"\",\"kind\":null,\"name\":\"message\"},{\"default\":null,\"kind\":null,\"name\":\"notification_type\"},{\"default\":false,\"kind\":null,\"name\":\"_destroyed\"}]},{\"extends\":null,\"module\":null,\"name\":\"TemplateActions1\",\"overrides\":[],\"properties\":[{\"default\":0,\"kind\":null,\"name\":\"open_modal\"},{\"default\":0,\"kind\":null,\"name\":\"close_modal\"}]},{\"extends\":null,\"module\":null,\"name\":\"MaterialTemplateActions1\",\"overrides\":[],\"properties\":[{\"default\":0,\"kind\":null,\"name\":\"open_modal\"},{\"default\":0,\"kind\":null,\"name\":\"close_modal\"}]}],\"roots\":{\"references\":[{\"attributes\":{\"client_comm_id\":\"948b2f4df0854b3eafd443eb5001a0eb\",\"comm_id\":\"b5f16790d1344947beff3c88dfd21b72\",\"plot_id\":\"1005\"},\"id\":\"1006\",\"type\":\"panel.models.comm_manager.CommManager\"},{\"attributes\":{\"active\":0,\"labels\":[\"z\",\"x\",\"con1\",\"con2\",\"obj\"],\"margin\":[5,10,5,10],\"sizing_mode\":\"stretch_width\"},\"id\":\"1005\",\"type\":\"RadioGroup\"}],\"root_ids\":[\"1005\",\"1006\"]},\"title\":\"Bokeh Application\",\"version\":\"2.4.3\"}};\n",
       "    var render_items = [{\"docid\":\"27280af4-0f9a-4a37-95b5-5e342a9f7752\",\"root_ids\":[\"1005\"],\"roots\":{\"1005\":\"14e17527-bbb4-4a1b-8fa3-553988d02359\"}}];\n",
       "    root.Bokeh.embed.embed_items_notebook(docs_json, render_items);\n",
       "    for (const render_item of render_items) {\n",
       "      for (const root_id of render_item.root_ids) {\n",
       "\tconst id_el = document.getElementById(root_id)\n",
       "\tif (id_el.children.length && (id_el.children[0].className === 'bk-root')) {\n",
       "\t  const root_el = id_el.children[0]\n",
       "\t  root_el.id = root_el.id + '-rendered'\n",
       "\t}\n",
       "      }\n",
       "    }\n",
       "  }\n",
       "  if (root.Bokeh !== undefined && root.Bokeh.Panel !== undefined) {\n",
       "    embed_document(root);\n",
       "  } else {\n",
       "    var attempts = 0;\n",
       "    var timer = setInterval(function(root) {\n",
       "      if (root.Bokeh !== undefined && root.Bokeh.Panel !== undefined) {\n",
       "        clearInterval(timer);\n",
       "        embed_document(root);\n",
       "      } else if (document.readyState == \"complete\") {\n",
       "        attempts++;\n",
       "        if (attempts > 200) {\n",
       "          clearInterval(timer);\n",
       "          console.log(\"Bokeh: ERROR: Unable to run BokehJS code because BokehJS library is missing\");\n",
       "        }\n",
       "      }\n",
       "    }, 25, root)\n",
       "  }\n",
       "})(window);</script>"
      ],
      "text/plain": [
       "RadioBoxGroup(name='Variable', options=['z', 'x', 'con1', ...], sizing_mode='stretch_width', value='z')"
      ]
     },
     "execution_count": 12,
     "metadata": {
      "application/vnd.holoviews_exec.v0+json": {
       "id": "1005"
      }
     },
     "output_type": "execute_result"
    }
   ],
   "source": [
    "# variable = pn.widgets.RadioBoxGroup(\n",
    "#     name=\"Variable\", value=\"z\", options=list(df.columns)\n",
    "# )\n",
    "# variable.servable(area=\"sidebar\")"
   ]
  },
  {
   "cell_type": "code",
   "execution_count": 13,
   "id": "4e01fb25",
   "metadata": {},
   "outputs": [],
   "source": [
    "# def var_plot(variable=\"z\"):\n",
    "#     fig = Figure(figsize=(10, 5))\n",
    "#     ax = fig.add_subplot()\n",
    "#     df[variable].plot(ax=ax, c=primary_color)\n",
    "#     return fig"
   ]
  },
  {
   "cell_type": "code",
   "execution_count": 14,
   "id": "ff00a9ac",
   "metadata": {},
   "outputs": [
    {
     "data": {},
     "metadata": {},
     "output_type": "display_data"
    },
    {
     "data": {
      "application/vnd.holoviews_exec.v0+json": "",
      "text/html": [
       "<div id='1007'>\n",
       "  <div class=\"bk-root\" id=\"a4f5454f-72c9-40f3-954d-50834aca250a\" data-root-id=\"1007\"></div>\n",
       "</div>\n",
       "<script type=\"application/javascript\">(function(root) {\n",
       "  function embed_document(root) {\n",
       "    var docs_json = {\"bb03f5d7-7392-4dab-83b7-8129892eb5f9\":{\"defs\":[{\"extends\":null,\"module\":null,\"name\":\"ReactiveHTML1\",\"overrides\":[],\"properties\":[]},{\"extends\":null,\"module\":null,\"name\":\"FlexBox1\",\"overrides\":[],\"properties\":[{\"default\":\"flex-start\",\"kind\":null,\"name\":\"align_content\"},{\"default\":\"flex-start\",\"kind\":null,\"name\":\"align_items\"},{\"default\":\"row\",\"kind\":null,\"name\":\"flex_direction\"},{\"default\":\"wrap\",\"kind\":null,\"name\":\"flex_wrap\"},{\"default\":\"flex-start\",\"kind\":null,\"name\":\"justify_content\"}]},{\"extends\":null,\"module\":null,\"name\":\"GridStack1\",\"overrides\":[],\"properties\":[{\"default\":\"warn\",\"kind\":null,\"name\":\"mode\"},{\"default\":null,\"kind\":null,\"name\":\"ncols\"},{\"default\":null,\"kind\":null,\"name\":\"nrows\"},{\"default\":true,\"kind\":null,\"name\":\"allow_resize\"},{\"default\":true,\"kind\":null,\"name\":\"allow_drag\"},{\"default\":[],\"kind\":null,\"name\":\"state\"}]},{\"extends\":null,\"module\":null,\"name\":\"click1\",\"overrides\":[],\"properties\":[{\"default\":\"\",\"kind\":null,\"name\":\"terminal_output\"},{\"default\":\"\",\"kind\":null,\"name\":\"debug_name\"},{\"default\":0,\"kind\":null,\"name\":\"clears\"}]},{\"extends\":null,\"module\":null,\"name\":\"NotificationAreaBase1\",\"overrides\":[],\"properties\":[{\"default\":\"bottom-right\",\"kind\":null,\"name\":\"position\"},{\"default\":0,\"kind\":null,\"name\":\"_clear\"}]},{\"extends\":null,\"module\":null,\"name\":\"NotificationArea1\",\"overrides\":[],\"properties\":[{\"default\":[],\"kind\":null,\"name\":\"notifications\"},{\"default\":\"bottom-right\",\"kind\":null,\"name\":\"position\"},{\"default\":0,\"kind\":null,\"name\":\"_clear\"},{\"default\":[{\"background\":\"#ffc107\",\"icon\":{\"className\":\"fas fa-exclamation-triangle\",\"color\":\"white\",\"tagName\":\"i\"},\"type\":\"warning\"},{\"background\":\"#007bff\",\"icon\":{\"className\":\"fas fa-info-circle\",\"color\":\"white\",\"tagName\":\"i\"},\"type\":\"info\"}],\"kind\":null,\"name\":\"types\"}]},{\"extends\":null,\"module\":null,\"name\":\"Notification\",\"overrides\":[],\"properties\":[{\"default\":null,\"kind\":null,\"name\":\"background\"},{\"default\":3000,\"kind\":null,\"name\":\"duration\"},{\"default\":null,\"kind\":null,\"name\":\"icon\"},{\"default\":\"\",\"kind\":null,\"name\":\"message\"},{\"default\":null,\"kind\":null,\"name\":\"notification_type\"},{\"default\":false,\"kind\":null,\"name\":\"_destroyed\"}]},{\"extends\":null,\"module\":null,\"name\":\"TemplateActions1\",\"overrides\":[],\"properties\":[{\"default\":0,\"kind\":null,\"name\":\"open_modal\"},{\"default\":0,\"kind\":null,\"name\":\"close_modal\"}]},{\"extends\":null,\"module\":null,\"name\":\"MaterialTemplateActions1\",\"overrides\":[],\"properties\":[{\"default\":0,\"kind\":null,\"name\":\"open_modal\"},{\"default\":0,\"kind\":null,\"name\":\"close_modal\"}]}],\"roots\":{\"references\":[{\"attributes\":{\"children\":[{\"id\":\"1008\"}],\"margin\":[0,0,0,0],\"name\":\"Row00113\",\"sizing_mode\":\"scale_both\"},\"id\":\"1007\",\"type\":\"Row\"},{\"attributes\":{\"height\":360,\"margin\":[5,5,5,5],\"name\":\"ParamFunction00109\",\"sizing_mode\":\"scale_both\",\"text\":\"&lt;img src=&quot;data:image/png;base64,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&quot; width=&quot;100%&quot; height=&quot;auto&quot; alt=&quot;&quot;&gt;&lt;/img&gt;\",\"width\":720},\"id\":\"1008\",\"type\":\"panel.models.markup.HTML\"},{\"attributes\":{\"client_comm_id\":\"6d6a62db14d34e508978f6809b1880e0\",\"comm_id\":\"471bf44a097446fba5fd443b6276f939\",\"plot_id\":\"1007\"},\"id\":\"1009\",\"type\":\"panel.models.comm_manager.CommManager\"}],\"root_ids\":[\"1007\",\"1009\"]},\"title\":\"Bokeh Application\",\"version\":\"2.4.3\"}};\n",
       "    var render_items = [{\"docid\":\"bb03f5d7-7392-4dab-83b7-8129892eb5f9\",\"root_ids\":[\"1007\"],\"roots\":{\"1007\":\"a4f5454f-72c9-40f3-954d-50834aca250a\"}}];\n",
       "    root.Bokeh.embed.embed_items_notebook(docs_json, render_items);\n",
       "    for (const render_item of render_items) {\n",
       "      for (const root_id of render_item.root_ids) {\n",
       "\tconst id_el = document.getElementById(root_id)\n",
       "\tif (id_el.children.length && (id_el.children[0].className === 'bk-root')) {\n",
       "\t  const root_el = id_el.children[0]\n",
       "\t  root_el.id = root_el.id + '-rendered'\n",
       "\t}\n",
       "      }\n",
       "    }\n",
       "  }\n",
       "  if (root.Bokeh !== undefined && root.Bokeh.Panel !== undefined) {\n",
       "    embed_document(root);\n",
       "  } else {\n",
       "    var attempts = 0;\n",
       "    var timer = setInterval(function(root) {\n",
       "      if (root.Bokeh !== undefined && root.Bokeh.Panel !== undefined) {\n",
       "        clearInterval(timer);\n",
       "        embed_document(root);\n",
       "      } else if (document.readyState == \"complete\") {\n",
       "        attempts++;\n",
       "        if (attempts > 200) {\n",
       "          clearInterval(timer);\n",
       "          console.log(\"Bokeh: ERROR: Unable to run BokehJS code because BokehJS library is missing\");\n",
       "        }\n",
       "      }\n",
       "    }, 25, root)\n",
       "  }\n",
       "})(window);</script>"
      ],
      "text/plain": [
       "ParamFunction(function, _pane=Matplotlib, sizing_mode='scale_both')"
      ]
     },
     "execution_count": 14,
     "metadata": {
      "application/vnd.holoviews_exec.v0+json": {
       "id": "1007"
      }
     },
     "output_type": "execute_result"
    }
   ],
   "source": [
    "# # Reactive Functions\n",
    "# reactive_plot = pn.bind(var_plot, variable)\n",
    "\n",
    "# pn.panel(reactive_plot, sizing_mode=\"scale_both\").servable()"
   ]
  },
  {
   "cell_type": "code",
   "execution_count": 15,
   "id": "a00f3e7f",
   "metadata": {},
   "outputs": [
    {
     "data": {},
     "metadata": {},
     "output_type": "display_data"
    },
    {
     "data": {
      "application/vnd.holoviews_exec.v0+json": "",
      "text/html": [
       "<div id='1010'>\n",
       "  <div class=\"bk-root\" id=\"5a1bbd59-1a8a-4a46-91e4-8a00e9136cc0\" data-root-id=\"1010\"></div>\n",
       "</div>\n",
       "<script type=\"application/javascript\">(function(root) {\n",
       "  function embed_document(root) {\n",
       "    var docs_json = {\"8c946c33-4a59-4d2b-a86e-b84c85ee8b0a\":{\"defs\":[{\"extends\":null,\"module\":null,\"name\":\"ReactiveHTML1\",\"overrides\":[],\"properties\":[]},{\"extends\":null,\"module\":null,\"name\":\"FlexBox1\",\"overrides\":[],\"properties\":[{\"default\":\"flex-start\",\"kind\":null,\"name\":\"align_content\"},{\"default\":\"flex-start\",\"kind\":null,\"name\":\"align_items\"},{\"default\":\"row\",\"kind\":null,\"name\":\"flex_direction\"},{\"default\":\"wrap\",\"kind\":null,\"name\":\"flex_wrap\"},{\"default\":\"flex-start\",\"kind\":null,\"name\":\"justify_content\"}]},{\"extends\":null,\"module\":null,\"name\":\"GridStack1\",\"overrides\":[],\"properties\":[{\"default\":\"warn\",\"kind\":null,\"name\":\"mode\"},{\"default\":null,\"kind\":null,\"name\":\"ncols\"},{\"default\":null,\"kind\":null,\"name\":\"nrows\"},{\"default\":true,\"kind\":null,\"name\":\"allow_resize\"},{\"default\":true,\"kind\":null,\"name\":\"allow_drag\"},{\"default\":[],\"kind\":null,\"name\":\"state\"}]},{\"extends\":null,\"module\":null,\"name\":\"click1\",\"overrides\":[],\"properties\":[{\"default\":\"\",\"kind\":null,\"name\":\"terminal_output\"},{\"default\":\"\",\"kind\":null,\"name\":\"debug_name\"},{\"default\":0,\"kind\":null,\"name\":\"clears\"}]},{\"extends\":null,\"module\":null,\"name\":\"NotificationAreaBase1\",\"overrides\":[],\"properties\":[{\"default\":\"bottom-right\",\"kind\":null,\"name\":\"position\"},{\"default\":0,\"kind\":null,\"name\":\"_clear\"}]},{\"extends\":null,\"module\":null,\"name\":\"NotificationArea1\",\"overrides\":[],\"properties\":[{\"default\":[],\"kind\":null,\"name\":\"notifications\"},{\"default\":\"bottom-right\",\"kind\":null,\"name\":\"position\"},{\"default\":0,\"kind\":null,\"name\":\"_clear\"},{\"default\":[{\"background\":\"#ffc107\",\"icon\":{\"className\":\"fas fa-exclamation-triangle\",\"color\":\"white\",\"tagName\":\"i\"},\"type\":\"warning\"},{\"background\":\"#007bff\",\"icon\":{\"className\":\"fas fa-info-circle\",\"color\":\"white\",\"tagName\":\"i\"},\"type\":\"info\"}],\"kind\":null,\"name\":\"types\"}]},{\"extends\":null,\"module\":null,\"name\":\"Notification\",\"overrides\":[],\"properties\":[{\"default\":null,\"kind\":null,\"name\":\"background\"},{\"default\":3000,\"kind\":null,\"name\":\"duration\"},{\"default\":null,\"kind\":null,\"name\":\"icon\"},{\"default\":\"\",\"kind\":null,\"name\":\"message\"},{\"default\":null,\"kind\":null,\"name\":\"notification_type\"},{\"default\":false,\"kind\":null,\"name\":\"_destroyed\"}]},{\"extends\":null,\"module\":null,\"name\":\"TemplateActions1\",\"overrides\":[],\"properties\":[{\"default\":0,\"kind\":null,\"name\":\"open_modal\"},{\"default\":0,\"kind\":null,\"name\":\"close_modal\"}]},{\"extends\":null,\"module\":null,\"name\":\"MaterialTemplateActions1\",\"overrides\":[],\"properties\":[{\"default\":0,\"kind\":null,\"name\":\"open_modal\"},{\"default\":0,\"kind\":null,\"name\":\"close_modal\"}]}],\"roots\":{\"references\":[{\"attributes\":{\"active\":[0],\"labels\":[\"z\",\"x\",\"con1\",\"con2\",\"obj\"],\"margin\":[5,10,5,10],\"sizing_mode\":\"stretch_width\"},\"id\":\"1010\",\"type\":\"CheckboxGroup\"},{\"attributes\":{\"client_comm_id\":\"82df606bf7df4ce7bde7e3f0a25d919e\",\"comm_id\":\"6250a38082f548ea9165027a859ef3bd\",\"plot_id\":\"1010\"},\"id\":\"1011\",\"type\":\"panel.models.comm_manager.CommManager\"}],\"root_ids\":[\"1010\",\"1011\"]},\"title\":\"Bokeh Application\",\"version\":\"2.4.3\"}};\n",
       "    var render_items = [{\"docid\":\"8c946c33-4a59-4d2b-a86e-b84c85ee8b0a\",\"root_ids\":[\"1010\"],\"roots\":{\"1010\":\"5a1bbd59-1a8a-4a46-91e4-8a00e9136cc0\"}}];\n",
       "    root.Bokeh.embed.embed_items_notebook(docs_json, render_items);\n",
       "    for (const render_item of render_items) {\n",
       "      for (const root_id of render_item.root_ids) {\n",
       "\tconst id_el = document.getElementById(root_id)\n",
       "\tif (id_el.children.length && (id_el.children[0].className === 'bk-root')) {\n",
       "\t  const root_el = id_el.children[0]\n",
       "\t  root_el.id = root_el.id + '-rendered'\n",
       "\t}\n",
       "      }\n",
       "    }\n",
       "  }\n",
       "  if (root.Bokeh !== undefined && root.Bokeh.Panel !== undefined) {\n",
       "    embed_document(root);\n",
       "  } else {\n",
       "    var attempts = 0;\n",
       "    var timer = setInterval(function(root) {\n",
       "      if (root.Bokeh !== undefined && root.Bokeh.Panel !== undefined) {\n",
       "        clearInterval(timer);\n",
       "        embed_document(root);\n",
       "      } else if (document.readyState == \"complete\") {\n",
       "        attempts++;\n",
       "        if (attempts > 200) {\n",
       "          clearInterval(timer);\n",
       "          console.log(\"Bokeh: ERROR: Unable to run BokehJS code because BokehJS library is missing\");\n",
       "        }\n",
       "      }\n",
       "    }, 25, root)\n",
       "  }\n",
       "})(window);</script>"
      ],
      "text/plain": [
       "CheckBoxGroup(name='Variables', options=['z', 'x', 'con1', ...], sizing_mode='stretch_width', value=['z'])"
      ]
     },
     "execution_count": 15,
     "metadata": {
      "application/vnd.holoviews_exec.v0+json": {
       "id": "1010"
      }
     },
     "output_type": "execute_result"
    }
   ],
   "source": []
  },
  {
   "cell_type": "code",
   "execution_count": 17,
   "id": "bcce60f4",
   "metadata": {},
   "outputs": [],
   "source": [
    "# def vars_plot(variables=[\"z\",]):\n",
    "#     fig = Figure(figsize=(10, 5))\n",
    "#     ax = fig.add_subplot()\n",
    "#     for variable in variables:\n",
    "#         df[variable].plot(ax=ax, c=primary_color)\n",
    "#     return fig"
   ]
  },
  {
   "cell_type": "code",
   "execution_count": 18,
   "id": "eae028cc",
   "metadata": {},
   "outputs": [
    {
     "data": {},
     "metadata": {},
     "output_type": "display_data"
    },
    {
     "data": {
      "application/vnd.holoviews_exec.v0+json": "",
      "text/html": [
       "<div id='1012'>\n",
       "  <div class=\"bk-root\" id=\"29e62f21-895f-4fce-adca-e6c8ae6a3beb\" data-root-id=\"1012\"></div>\n",
       "</div>\n",
       "<script type=\"application/javascript\">(function(root) {\n",
       "  function embed_document(root) {\n",
       "    var docs_json = {\"e69b14f6-fe5b-4456-bf3f-036c125db697\":{\"defs\":[{\"extends\":null,\"module\":null,\"name\":\"ReactiveHTML1\",\"overrides\":[],\"properties\":[]},{\"extends\":null,\"module\":null,\"name\":\"FlexBox1\",\"overrides\":[],\"properties\":[{\"default\":\"flex-start\",\"kind\":null,\"name\":\"align_content\"},{\"default\":\"flex-start\",\"kind\":null,\"name\":\"align_items\"},{\"default\":\"row\",\"kind\":null,\"name\":\"flex_direction\"},{\"default\":\"wrap\",\"kind\":null,\"name\":\"flex_wrap\"},{\"default\":\"flex-start\",\"kind\":null,\"name\":\"justify_content\"}]},{\"extends\":null,\"module\":null,\"name\":\"GridStack1\",\"overrides\":[],\"properties\":[{\"default\":\"warn\",\"kind\":null,\"name\":\"mode\"},{\"default\":null,\"kind\":null,\"name\":\"ncols\"},{\"default\":null,\"kind\":null,\"name\":\"nrows\"},{\"default\":true,\"kind\":null,\"name\":\"allow_resize\"},{\"default\":true,\"kind\":null,\"name\":\"allow_drag\"},{\"default\":[],\"kind\":null,\"name\":\"state\"}]},{\"extends\":null,\"module\":null,\"name\":\"click1\",\"overrides\":[],\"properties\":[{\"default\":\"\",\"kind\":null,\"name\":\"terminal_output\"},{\"default\":\"\",\"kind\":null,\"name\":\"debug_name\"},{\"default\":0,\"kind\":null,\"name\":\"clears\"}]},{\"extends\":null,\"module\":null,\"name\":\"NotificationAreaBase1\",\"overrides\":[],\"properties\":[{\"default\":\"bottom-right\",\"kind\":null,\"name\":\"position\"},{\"default\":0,\"kind\":null,\"name\":\"_clear\"}]},{\"extends\":null,\"module\":null,\"name\":\"NotificationArea1\",\"overrides\":[],\"properties\":[{\"default\":[],\"kind\":null,\"name\":\"notifications\"},{\"default\":\"bottom-right\",\"kind\":null,\"name\":\"position\"},{\"default\":0,\"kind\":null,\"name\":\"_clear\"},{\"default\":[{\"background\":\"#ffc107\",\"icon\":{\"className\":\"fas fa-exclamation-triangle\",\"color\":\"white\",\"tagName\":\"i\"},\"type\":\"warning\"},{\"background\":\"#007bff\",\"icon\":{\"className\":\"fas fa-info-circle\",\"color\":\"white\",\"tagName\":\"i\"},\"type\":\"info\"}],\"kind\":null,\"name\":\"types\"}]},{\"extends\":null,\"module\":null,\"name\":\"Notification\",\"overrides\":[],\"properties\":[{\"default\":null,\"kind\":null,\"name\":\"background\"},{\"default\":3000,\"kind\":null,\"name\":\"duration\"},{\"default\":null,\"kind\":null,\"name\":\"icon\"},{\"default\":\"\",\"kind\":null,\"name\":\"message\"},{\"default\":null,\"kind\":null,\"name\":\"notification_type\"},{\"default\":false,\"kind\":null,\"name\":\"_destroyed\"}]},{\"extends\":null,\"module\":null,\"name\":\"TemplateActions1\",\"overrides\":[],\"properties\":[{\"default\":0,\"kind\":null,\"name\":\"open_modal\"},{\"default\":0,\"kind\":null,\"name\":\"close_modal\"}]},{\"extends\":null,\"module\":null,\"name\":\"MaterialTemplateActions1\",\"overrides\":[],\"properties\":[{\"default\":0,\"kind\":null,\"name\":\"open_modal\"},{\"default\":0,\"kind\":null,\"name\":\"close_modal\"}]}],\"roots\":{\"references\":[{\"attributes\":{\"children\":[{\"id\":\"1013\"}],\"margin\":[0,0,0,0],\"name\":\"Row00125\",\"sizing_mode\":\"scale_both\"},\"id\":\"1012\",\"type\":\"Row\"},{\"attributes\":{\"client_comm_id\":\"3909270ac494477ebe6208d6179dfd71\",\"comm_id\":\"800c4e4398e64f41ac2c44ae1042e214\",\"plot_id\":\"1012\"},\"id\":\"1014\",\"type\":\"panel.models.comm_manager.CommManager\"},{\"attributes\":{\"height\":360,\"margin\":[5,5,5,5],\"name\":\"ParamFunction00121\",\"sizing_mode\":\"scale_both\",\"text\":\"&lt;img src=&quot;data:image/png;base64,iVBORw0KGgoAAAANSUhEUgAABaAAAALQCAYAAABmJdeHAAAABHNCSVQICAgIfAhkiAAAAAlwSFlzAAAWJQAAFiUBSVIk8AAAADh0RVh0U29mdHdhcmUAbWF0cGxvdGxpYiB2ZXJzaW9uMy4yLjIsIGh0dHA6Ly9tYXRwbG90bGliLm9yZy+WH4yJAAAgAElEQVR4nOzdeZSV9Z0u+mcX84ygDA5QRQlKNJqEk0RxBNGOnnNvkl73JOeslk7MpNeRGL1qoFuMSsxg0nqStG3sJudq39tJ7orp7pXENgzOqBGJR2kcKCgQlEEQkWIqqur+QbuRCIJQm7eGz2etWmt/3137x1Nrudz41Nd3l1paWloCAAAAAACtrKroAAAAAAAAdEwKaAAAAAAAKkIBDQAAAABARSigAQAAAACoCAU0AAAAAAAVoYAGAAAAAKAiFNAAAAAAAFSEAhoAAAAAgIpQQAMAAAAAUBEKaAAAAAAAKkIBDQAAAABARSigAQAAAACoCAU0AAAAAAAVoYAGAAAAAKAiFNAAAAAAAFSEAhoAAAAAgIpQQAMAAAAAUBEKaAAAAAAAKkIBDQAAAABARSigAQAAAACoCAU0AAAAAAAVoYAGAAAAAKAiFNAAAAAAAFSEAhoAAAAAgIpQQAMAAAAAUBEKaAAAAAAAKkIBDQAAAABARSigAQAAAACoCAU0AAAAAAAVoYAGAAAAAKAiFNAAAAAAAFSEAhoAAAAAgIpQQAMAAAAAUBEKaAAAAAAAKkIBDQAAAABARSigAQAAAACoCAU0AAAAAAAVoYAGAAAAAKAiFNAAAAAAAFSEAhoAAAAAgIpQQAMAAAAAUBEKaAAAAAAAKkIBDQAAAABARSigAQAAAACoCAU0AAAAAAAVoYAGAAAAAKAiFNAAAAAAAFSEAhoAAAAAgIpQQAMAAAAAUBEKaAAAAAAAKkIBDQAAAABARSigAQAAAACoCAU0AAAAAAAVoYAGAAAAAKAiFNAAAAAAAFSEAhoAAAAAgIpQQAMAAAAAUBEKaAAAAAAAKkIBDQAAAABARSigAQAAAACoCAU0AAAAAAAVoYAGAAAAAKAiFNAAAAAAAFSEAhoAAAAAgIpQQAMAAAAAUBEKaAAAAAAAKkIBDQAAAABARSigAQAAAACoCAU0AAAAAAAVoYAGAAAAAKAiFNAAAAAAAFSEAhoAAAAAgIpQQAMAAAAAUBEKaAAAAAAAKkIBDQAAAABARSigAQAAAACoCAU0AAAAAAAVoYAGAAAAAKAiFNAAAAAAAFSEAhoAAAAAgIpQQAMAAAAAUBEKaAAAAAAAKkIBDQAAAABARSigAQAAAACoiK5FB4DWUl1dnY0bN6ampqboKAAAAAAdwtKlS9O/f//U19cXHYV2SgFNh7Fx48Zs3bq16BgAAAAAHYauhYOlgKbDeGfzef78+QUnAQAAAOgYxo0bV3QE2jn3gGafqqurUyqV9vg1bNiwQ34OAAAAANA+2IBmvwwYMCBTpkx5z/W+ffsWcg4AAAAA0PYpoNkvAwcOzPTp09vMOQAAAABA2+cWHAAAAAAAVIQNaPbLtm3bct9992X58uXp06dPTjrppJx55pnp0qVLIecAAAAAAG2fApr9smrVqkyePHm3azU1NZk5c2bOOuusQ3rO3j59ddGiRRk7dux+ZwEAAAAAKsstONiniy66KLNnz86qVavS0NCQ559/PhdffHHq6+tz/vnn57nnnjuk5wAAAAAA7UOppaWlpegQtE/XXHNNbr/99nzmM5/J/fffX/g572xGz58//4DPAAAAAGAXfQsHywY0B+ySSy5JkjzyyCNt4hwAAAAAoG1RQHPAhgwZkiRpaGhoE+cAAAAAAG2LApoDNm/evCTJqFGj2sQ5AAAAAEDbooDmfS1cuDDr169/z/Vly5bl8ssvT5JceOGF5euNjY158cUXU1dXd1DnAAAAAADtX9eiA9C2/fKXv8xtt92WCRMmpKamJv369UtdXV1+85vfZOvWrbngggtyzTXXlL9/5cqVGTt2bEaOHJn6+voDPgcAAAAAaP8U0LyvCRMm5KWXXsqCBQsyb968NDQ0ZODAgTn99NMzefLkTJ48OaVS6ZCdAwAAAAC0H6WWlpaWokNAaxg3blySZP78+QUnAQAAAOgY9C0cLPeABgAAAACgIhTQAAAAAABUhAIaAAAAAICKUEADAAAAAFARCmgAAAAAACpCAQ0AAAAAQEV0LToAsLt/eWF11mzaXnQMeF+lUnLKyIE5YVi/oqMAAAAAbZgCGtqY2+bUZd6yDUXHgH3q0bUqT181Picd2b/oKAAAAEAb5RYcAByQbTuac9ODrxQdAwAAAGjDbEBDG/O/nTAkHxrat+gYsFc7mlvyP59ZmST51fOrs3DV227FAQAAAOyRAhramBvOObboCLBPb25pzL8sXJMkmTGrLv944UcKTgQAAAC0RW7BAcAHNnXSrl+U/NMfX8sraxsKTAMAAAC0VQpoAD6wT4wYmPPGHJ4kaW7Z+eGZAAAAAH9KAQ3AAZl27q4t6P/7mZVZtn5LgWkAAACAtkgBDcABOWPUoJxVOyjJzg8m/O5cW9AAAADA7hTQABywae+6F/TfP70ir721tcA0AAAAQFujgAbggJ0zenA+OWJgkmTbjuZ8/6ElBScCAAAA2hIFNAAHrFQqZdq5teX5rnnLs3bTtgITAQAAAG2JAhqAg/Kfxw7JyUf2S5JsaWzODx+pLzYQAAAA0GYooAE4KKVSabd7Qf/osWV5c3NjgYkAAACAtkIBDcBB+/MPD8vYoX2TJG9v25H/8Vh9sYEAAACANkEBDcBBq6oq5Zvn7LoX9N88Up+3t+4oMBEAAADQFiigAWgV/+0jw1M7uHeS5M0tjfnbJ5YVnAgAAAAomgIagFbRtUtVbnjXFvTtDy/N5u1NBSYCAAAAiqaABqDVTB53VI4Z2DNJsmbT9vz0yeUFJwIAAACKpIAGoNV071qV6yaMKs/fnbsk23bYggYAAIDOSgENQKv60iePybB+PZIkr23clp/9YWXBiQAAAICiKKABaFW9unXJNWfXlOfb5tSlsam5wEQAAABAURTQALS6i08dkcG9uyVJ6tdvyf/z7GsFJwIAAACKoIAGoNX17dE1V5+1awt6xuy6NDW3FJgIAAAAKIICGoCKuOy0kRnQs2uS5OW1Dfn/nnu94EQAAADAoaaABqAiBvTqlivPqC7Pt8xanGZb0AAAANCpKKABqJirzqhOn+5dkiQvrNqUf1m4uuBEAAAAwKGkgAagYgb36Z5Lx48sz7fMWpyWFlvQAAAA0FkooAGoqKvPqknPrjvfbuav2Jh/e+mNghMBAAAAh4oCGoCKGta/R756yjHl+ebf24IGAACAzkIBDUDFXXv2qHTrUkqSPFH/Zh6uW19wIgAAAOBQUEADUHHHHNYrF3386PJ8y6zFBaYBAAAADhUFNACHxHUTa9OlaucW9OxX1mVe/ZsFJwIAAAAqTQENwCExanDv/MXHjizPtqABAACg41NAA3DI3DCxNqWdS9D57aK1eXbFW8UGAgAAACpKAQ3AIXP80L75rycNL8+32oIGAACADk0BDcAhNXVSbfnxr55fnYWr3i4wDQAAAFBJCmgADqmTjuyf//2EIeV5xqy6AtMAAAAAlaSABuCQmzbp2PLjf/rja3llbUOBaQAAAIBKUUADcMh9fMTA/NlxhydJmluSb8+2BQ0AAAAdkQIagEK8ewv63vkrU79+c4FpAAAAgEpQQANQiNNHDcpZtYOSJDuaW/LduUsKTgQAAAC0NgU0AIV59xb03z+1Iq+9tbXANAAAAEBrU0ADUJhzRg/OJ0cMTJJsb2rO9x+yBQ0AAAAdiQIagMKUSqVMO7e2PN81b3nWbtpWYCIAAACgNSmgASjUfx47JB85sn+SZEtjc374SH2xgQAAAIBWo4AGoFB/ugX9o8eW5c3NjQUmAgAAAFqLAhqAwn32xGEZO7RvkuTtbTty56P1xQYCAAAAWoUCGoDCVVWVMvWcXVvQdzxan41bbUEDAABAe6eABqBN+PxHhqd2cO8kyZtbGvO3TywvOBEAAABwsBTQALQJXbtU5YZ3bUHf/vDSbN7eVGAiAAAA4GApoNmn6urqlEqlPX4NGzbsA521YsWKfOlLX8qRRx6ZHj16pLq6OlOmTMmbb75ZofRAezJ53FE5ZmDPJMnaTdvz0ydtQQMAAEB71rXoALQPAwYMyJQpU95zvW/fvvt9Rl1dXcaPH581a9bk05/+dI4//vg8/fTTueOOO/LAAw/k8ccfz+DBg1szNtDOdO9alesmjMrl9/97kuS7c5fkkvEj0qNrl4KTAQAAAAdCAc1+GThwYKZPn35QZ1x66aVZs2ZN7rzzzlxxxRXl61dffXV++MMfZurUqbnrrrsOMinQ3n35k8fklll1WfX2try2cVt+9oeVufjUEUXHAgAAAA6AW3BwSCxZsiQPPvhgqqurc9lll+323E033ZQ+ffrk3nvvTUNDQ0EJgbaiZ7cuuXZCTXm+bU5dGpuaC0wEAAAAHCgFNPtl27Ztue+++zJjxozccccdmTt3bpqa9v/DwebMmZMkOe+881JVtfs/dv369ctpp52WzZs358knn2zV3ED7dPEpIzK4d7ckSf36LfnH+a8VnAgAAAA4EApo9suqVasyefLkTJ06NVOmTMnEiRMzevToPPzww/v1+pdeeilJMmbMmD0+P3r06CTJyy+/3DqBgXatT4+uufqsXVvQM2YvTlNzS4GJAAAAgAOhgGafLrroosyePTurVq1KQ0NDnn/++Vx88cWpr6/P+eefn+eee26fZ7z11ltJdn6Y4Z68c33Dhg37PGvcuHF7/Fq0aNEH+KmAtu6y00ZmQM+dH1Xwyhub88vnXi84EQAAAPBBKaDZpxtvvDETJ07M0KFD07t375x44om56667cvXVV2fLli0H/eGESdLSsnOzsVQqHfRZQMcwoFe3XHlGdXm+ddbiNNuCBgAAgHala9EBaL8uueSS3H777XnkkUf2+b3vbDi/swn9pzZu3Ljb972f+fPn7/H6uHHj9vlaoH256ozq/ODhpWnY3pQXVm3Kvyxcnc98eFjRsQAAAID9ZAOaAzZkyJAkSUNDwz6/97jjjkuy93s8v/LKK0n2fo9ooHMa3Kd7Lh0/sjzfMmtx+f+YAAAAANo+BTQHbN68eUmSUaNG7fN7J0yYkCR58MEH09zcvNtzb7/9dh5//PH06tUrp5xySusHBdq1b5xdk55dd75dzV+xMf/20hsFJwIAAAD2lwKa97Vw4cKsX7/+PdeXLVuWyy+/PEly4YUXlq83NjbmxRdfTF1d3W7fX1tbm/POOy/19fX58Y9/vNtzN954YxoaGvKXf/mX6dOnTwV+CqA9G9qvR7526ojyfPPvbUEDAABAe1Fq8V/xvI/p06fntttuy4QJE1JTU5N+/fqlrq4uv/nNb7J169ZccMEFuf/++9O9e/ckSX19fWpqajJy5MjU19fvdlZdXV3Gjx+fNWvW5NOf/nTGjh2bp556KnPnzs2YMWPyxBNPZPDgwQec9Z17QO/tHtFA+7Viw5aMmvFQGpt2vmXN+T8/mQnHHvi/LwAAANg/+hYOlg8h5H1NmDAhL730UhYsWJB58+aloaEhAwcOzOmnn57Jkydn8uTJKZVK+3VWbW1tnnnmmfz1X/91Hnjggfz2t7/N8OHDc+WVV+bGG2/MoEGDKvzTAO3V0QN75aKPH527n3w1SXLL7xcroAEAAKAdsAFNh+E3ctCxLVm3OWNuezhNzTvfth6//NSMrzms4FQAAAAdm76Fg+Ue0AC0C6MG985ffOzI8nzr7MUFpgEAAAD2hwIagHbjhom1eeeuP79dtDbPrnir2EAAAADA+1JAA9BuHD+0bz538vDyfOssW9AAAADQlimgAWhXvnlObfnxr55fnRdef7vANAAAAMD7UUAD0K6cdGT/fPqEoeV5hntBAwAAQJulgAag3Zk6adcW9M//+HpeXrupwDQAAADA3iigAWh3Pj5iYP7suMOTJM0tyW2zlxScCAAAANgTBTQA7dK0SceWH987f2Xq128uMA0AAACwJwpoANql00cNylm1g5IkO5pb8t25tqABAACgrVFAA9BuvXsL+u+fWpHX3tpaYBoAAADgTymgAWi3zhk9OKeMHJgk2d7UnO89ZAsaAAAA2hIFNADtVqlU2m0L+u/mLc+at7cVmAgAAAB4NwU0AO3aBWOPyEeO7J8k2dLYnB8+srTgRAAAAMA7FNAAtGulUinTzq0tzz96fFnWb95eYCIAAADgHQpoANq9z544LGOH9k2SbNrWlP/x6LKCEwEAAACJAhqADqCqqpSp5+zagr7j0fps3NpYYCIAAAAgUUAD0EF8/iPDUzu4d5LkzS2N+dsnlhecCAAAAFBAA9AhdO1SlW++awv69oeXZvP2pgITAQAAAApoADqMC8cdlRGH9UySrN20PXc/aQsaAAAAiqSABqDD6N61KtdN2LUF/b25S7K10RY0AAAAFEUBDUCH8qVPHJ1h/XokSV7buC0/+8OKghMBAABA56WABqBD6dmtS66dUFOeb5uzJI1NzQUmAgAAgM5LAQ1Ah3PxKSMyuHe3JMmyN7fkH+e/VnAiAAAA6JwU0AB0OH16dM3VZ+3agp4xe3GamlsKTAQAAACdkwIagA7pstNGZmCvrkmSV97YnF8+93rBiQAAAKDzUUAD0CEN6NUtV55eXZ5vmbU4zbagAQAA4JBSQAPQYV15RnX69uiSJFm4alP+eeHqghMBAABA56KABqDDGtyney4dP7I83zJrcVpabEEDAADAoaKABqBDu/qsmvTsuvPt7tkVG/PAi2sLTgQAAACdhwIagA5taL8e+dqpI8rzzb+3BQ0AAACHigIagA7v2rNr0q1LKUkyb9mGPFS3vuBEAAAA0DkooAHo8I4e2CsXffzo8nzL7xcXmAYAAAA6DwU0AJ3C9RNr06Vq5xb0nMXr8sTSNwtOBAAAAB2fAhqATqFmcO9c+LEjy/Mts2xBAwAAQKUpoAHoNG44pzalnUvQ+d2LazP/1beKDQQAAAAdnAIagE7juCF987mTh5fnW2fbggYAAIBKUkAD0Kl885za8uP7n1+dF15/u8A0AAAA0LEpoAHoVE46sn8+fcLQ8jzDFjQAAABUjAIagE5n6qRdW9A//+PreXntpgLTAAAAQMelgAag0/n4iIH5s+MOT5I0tyS3zV5ScCIAAADomBTQAHRKf3XuseXH985fmfr1mwtMAwAAAB2TAhqATum0mkE5u3ZQkmRHc0u+M8cWNAAAALQ2BTQAnda0Sbu2oP/h6RVZ+dbWAtMAAABAx6OABqDTmjh6cE4ZOTBJsr2pOd9/yBY0AAAAtCYFNACdVqlU2m0L+u/mLc+at7cVmAgAAAA6FgU0AJ3aBWOPyEeO7J8k2dLYnB8+srTgRAAAANBxKKAB6NRKpVKmnVtbnn/0+LKs37y9wEQAAADQcSigAej0PnvisHxoaN8kyaZtTbnz0fpiAwEAAEAHoYAGoNOrqipl6qRdW9B3PFqfjVsbC0wEAAAAHYMCGgCSfO7k4Tn28N5Jkg1bduQnjy8vOBEAAAC0fwpoAEjStUtVbpi4awv69oeXpmHbjgITAQAAQPungAaA/3DhuKMy4rCeSZI3Grbnp0+9WnAiAAAAaN8U0ADwH7p3rcp1E3ZtQX9v7pJsbWwqMBEAAAC0bwpoAHiXL33i6Azr1yNJ8trGbfnZH1YUnAgAAADaLwU0ALxLz25dcu2EmvJ825wlaWxqLjARAAAAtF8KaAD4ExefMiKH9+meJFn25pbcN39lwYkAAACgfVJAA8Cf6NOja64+q7o8z5hdl6bmluICAQAAQDulgAaAPbjstJEZ2KtrkmTxG5vziz++XnAiAAAAaH8U0Hxg9957b0qlUkqlUu655579fl11dXX5dX/6NWzYsAomBvjg+vfslitPry7Pt85enGZb0AAAAPCBdC06AO3Lq6++miuuuCJ9+/bNpk2bPvDrBwwYkClTprznet++fVsjHkCruvKM6vzgkaXZtK0pC1dtyj8vXJ3PftgvzAAAAGB/KaDZby0tLbnooosyePDg/Pmf/3m+//3vf+AzBg4cmOnTp7d+OIAKGNyney4dPzLfnbskSXLLrMX5zIlDUyqVCk4GAAAA7YNbcLDf7rzzzsyZMyczZ85Mnz59io4DcEhcfVZNenXb+Xb57IqNeeDFtQUnAgAAgPZDAc1+WbRoUa6//vpcddVVOfPMMw/4nG3btuW+++7LjBkzcscdd2Tu3LlpampqxaQArWtovx752ikjyvPNv1+clhb3ggYAAID94RYc7NOOHTsyefLkjBgxIjNmzDios1atWpXJkyfvdq2mpiYzZ87MWWedtV9njBs3bo/XFy1alLFjxx5UPoA9uebsmvztE8uzvak585ZtyNzF6zJx9OFFxwIAAIA2zwY0+/Stb30rCxYsyM9+9rP06tXrgM+56KKLMnv27KxatSoNDQ15/vnnc/HFF6e+vj7nn39+nnvuuVZMDdB6jh7YKxd94qjyfMusugLTAAAAQPthA5r39fTTT2fGjBn5xje+kVNPPfWgzrrxxht3m0888cTcdddd6du3b26//fZMnz49999//z7PmT9//h6v720zGqA1XDehNvc8tSJNzS2Zu3hdHl+6PqfVDCo6FgAAALRpNqDZq3duvTFmzJjcfPPNFftzLrnkkiTJI488UrE/A+Bg1QzunQs/dmR5vtUWNAAAAOyTApq92rRpU15++eUsWrQoPXv2TKlUKn/ddNNNSZKvfvWrKZVKmTJlygH/OUOGDEmSNDQ0tEpugEq54ZzalEo7H//uxbWZ/+pbxQYCAACANs4tONirHj165Mtf/vIen3v22WezYMGCnH766TnuuOMO6vYc8+bNS5KMGjXqgM8AOBSOG9I3nzt5eH7+x9eTJLfOXpxffdHtfwAAAGBvFNDsVa9evXLPPffs8bnp06dnwYIF+cIXvpCvfOUr5euNjY2pq6tLt27dUltbW76+cOHCDB8+PIMG7X6/1GXLluXyyy9Pklx44YUV+CkAWtfUSbXlAvr+51fnhdffzonD+xWcCgAAANomBTStauXKlRk7dmxGjhyZ+vr68vVf/vKXue222zJhwoTU1NSkX79+qaury29+85ts3bo1F1xwQa655priggPspw8P75/PnDg0v35hdZLk1lmL8/9O/mjBqQAAAKBtUkBzSEyYMCEvvfRSFixYkHnz5qWhoSEDBw7M6aefnsmTJ2fy5MkpvXNjVYA2buqk2nIB/fPnXs/0Pxud44b0LTgVAAAAtD2llpaWlqJDQGsYN27nfVjnz59fcBKgMzj/p3/IAy+uTZJ88eNHZeZ/O7ngRAAAAK1P38LBqio6AAC0R9Mm7brP/b3zX0v9+s0FpgEAAIC2SQENAAfgtJpBObt25werNjW35DtzlhScCAAAANoeBTQAHKBpk44tP/6Hp1dk5VtbC0wDAAAAbY8CGgAO0MTRg3PKyIFJku1Nzfn+Q7agAQAA4N0U0ABwgEqlUv7q3F1b0H83b3nWvL2twEQAAADQtiigAeAgnH/8EfnoUf2TJFsam/ODh5cWnAgAAADaDgU0AByEUqm0272gf/zEsqzfvL3ARAAAANB2KKAB4CB95sSh+dDQvkmSTduacuej9cUGAgAAgDZCAQ0AB6mqqpSpk2rL8x2P1mfj1sYCEwEAAEDboIAGgFbwuZOH59jDeydJNmzZkZ88vrzgRAAAAFA8BTQAtIKuXapyw8RdW9C3P7w0Ddt2FJgIAAAAiqeABoBWcuG4ozLisJ5JkjcatuenT71acCIAAAAolgIaAFpJ965Vuf5dW9DfnbskWxubCkwEAAAAxVJAA0AruujjR2d4/x5Jktc3bsvMP6woOBEAAAAURwENAK2oZ7cuufbsUeX5tjl1aWxqLjARAAAAFEcBDQCt7GunHJPD+3RPkix/c2vum7+y4EQAAABQDAU0ALSyPj265uqzqsvzjNl1aWpuKS4QAAAAFEQBDQAVcNlpIzOwV9ckyeI3NucXf3y94EQAAABw6CmgAaAC+vfslitPry7Pt85enGZb0AAAAHQyCmgAqJCrzqxO3x5dkiQLV23Kr19YXXAiAAAAOLQU0ABQIYN6d89l40eW51tmLU5Liy1oAAAAOg8FNABU0NVn1aRXt51vtwtWbszvXlxbcCIAAAA4dBTQAFBBQ/r1yNdOGVGeb/69LWgAAAA6DwU0AFTYNWfXpHuXnW+5Ty7bkLmL1xWcCAAAAA4NBTQAVNjRA3vlok8cVZ5vmVVXYBoAAAA4dBTQAHAIXDehNl2qSkmSuYvX5fGl6wtOBAAAAJWngAaAQ6BmcO9c+LEjy7MtaAAAADoDBTQAHCLfnFSb0s4l6Dzw4to88+qGYgMBAABAhSmgAeAQGXNE33z+5OHl+VZb0AAAAHRwCmgAOIS+Oam2/PjXL6zO869vLDANAAAAVJYCGgAOoQ8P75/PnDi0PM+wBQ0AAEAHpoAGgENs6ru2oH/+3Ot5ac2mAtMAAABA5SigAeAQ+0/HDMynjj8iSdLSktw2xxY0AAAAHZMCGgAKMO1dW9D3zn8t9es3F5gGAAAAKkMBDQAFOK1mUCYcOzhJ0tTcYgsaAACADkkBDQAFefcW9MynV2bFhi0FpgEAAIDWp4AGgIJMOHZwTh05MEmyvak5339oacGJAAAAoHUpoAGgIKVSKdPOPbY83/3k8qx+e1uBiQAAAKB1KaABoEDnH39EPnpU/yTJlsbm/PBhW9AAAAB0HApoAChQqVTKtEm7tqB//MSyrN+8vcBEAAAA0HoU0ABQsM+cODQnDOubJNm0rSl3PlpfbCAAAABoJQpoAChYVVUpU8/ZtQV9x6P12bi1scBEAAAA0DoU0ADQBnzuI8Mz+vDeSZINW3bkx48vKzgRAAAAHDwFNAC0AV2qSrnhnNry/IOH69OwbUeBiQAAAODgKaABoI24cNxRGXFYzyTJGw3bc/eTrxacCAAAAA6OAhoA2ohuXapy/cRdW9Dfe2hJtjY2FZgIAOWJjdQAACAASURBVAAADo4CGgDakIs+fnSG9++RJHl947bM/MOKghMBAADAgVNAA0Ab0rNbl1x79qjyfNucujQ2NReYCAAAAA6cAhoA2pivnXJMDu/TPUmy/M2tuW/+yoITAQAAwIFRQANAG9OnR9d846ya8jxjdl122IIGAACgHVJAA0AbdOlpIzKwV9ckyeI3NucXz71ecCIAAAD44BTQANAG9e/ZLVedUV2eb51Vl+bmluICAQAAwAFQQANAG3XlGdXp26NLkuTfV2/Kr19YXXAiAAAA+GAU0ADQRg3q3T2XjR9Znm+ZtTgtLbagAQAAaD8U0ADQhl19Vk16ddv5dr1g5cb87sW1BScCAACA/aeABoA2bEi/HvnaKSPK882/twUNAABA+6GABoA27toJo9K9y8637CeXbcicV9YVnAgAAAD2jwKaD+zee+9NqVRKqVTKPffc84Feu2LFinzpS1/KkUcemR49eqS6ujpTpkzJm2++WaG0AO3fUQN65kufOLo83zJrcYFpAAAAYP8poPlAXn311VxxxRXp27fvB35tXV1dxo0bl5kzZ+YTn/hEvv71r2fUqFG54447cuqpp2bdOht9AHtz3cRR6VJVSpI8VLc+jy1ZX3AiAAAA2DcFNPutpaUlF110UQYPHpxLLrnkA7/+0ksvzZo1a3LnnXfm17/+dW677bbMmTMnX//61/PSSy9l6tSpFUgN0DFUD+qdyeOOLM+3zq4rMA0AAADsHwU0++3OO+/MnDlzMnPmzPTp0+cDvXbJkiV58MEHU11dncsuu2y352666ab06dMn9957bxoaGlozMkCHcsM5tSntXILOAy+uzTOvbig2EAAAAOyDApr9smjRolx//fW56qqrcuaZZ37g18+ZMydJct5556Wqavd/7Pr165fTTjstmzdvzpNPPtkqeQE6ojFH9M3nTx5enm+dZQsaAACAtk0BzT7t2LEjkydPzogRIzJjxowDOuOll15KkowZM2aPz48ePTpJ8vLLLx9YSIBO4puTasuPf/3C6jz/+sYC0wAAAMD761p0ANq+b33rW1mwYEEee+yx9OrV64DOeOutt5IkAwYM2OPz71zfsGHf/zv5uHHj9nh90aJFGTt27AHlA2gvPjy8fz5z4tD8+oXVSXZuQf/T5I8WnAoAAAD2zAY07+vpp5/OjBkz8o1vfCOnnnpqxf6clpaWJEnpnZubArBX0yYdW378i+dez0trNhWYBgAAAPbOBjR79c6tN8aMGZObb775oM56Z8P5nU3oP7Vx48bdvu/9zJ8/f4/X97YZDdDRjDtmQM4//oj87sW1aWlJvj27Lj/77ycXHQsAAADewwY0e7Vp06a8/PLLWbRoUXr27JlSqVT+uummm5IkX/3qV1MqlTJlypT3Peu4445Lsvd7PL/yyitJ9n6PaAB29+4t6PuefS1L120uMA0AAADsmQ1o9qpHjx758pe/vMfnnn322SxYsCCnn356jjvuuH3enmPChAlJkgcffDDNzc2pqtr1u4+33347jz/+eHr16pVTTjml9X4AgA5sfM1hmXDs4MxdvC5NzS35zty63PV/fLjoWAAAALAbBTR71atXr9xzzz17fG769OlZsGBBvvCFL+QrX/lK+XpjY2Pq6urSrVu31NbWlq/X1tbmvPPOy4MPPpgf//jHueKKK8rP3XjjjWloaMjFF1+cPn36VO4HAuhgpk2qzdzF65IkM59emWmTjs3RAw/sw2IBAACgEhTQtKqVK1dm7NixGTlyZOrr63d77ic/+UnGjx+fK6+8MrNnz87YsWPz1FNPZe7cuRkzZkxuvfXWYkIDtFMTjh2cU0cOzLxlG7K9qTnff2hp/uYzHyo6FgAAAJS5BzSHTG1tbZ555pl88YtfzFNPPZXbb789dXV1ufLKKzNv3rwMHjy46IgA7UqpVMq0c3fdC/ruJ5dn9dvbCkwEAAAAuyu1tLS0FB0CWsO4ceOSJPPnzy84CcCh09LSkv/0N4/n2RUbkyT/14RR+c5/Ob7gVAAAQEehb+Fg2YAGgHasVCpl2qRdW9A/eWJZ1jVsLzARAAAA7KKABoB27tMnDM0Jw/omSTZta8qdj9YXGwgAAAD+gwIaANq5qqpSpp6zawv6zsfq89aWxgITAQAAwE4KaADoAD73keEZfXjvJMmGLTvykyeWFZwIAAAAFNAA0CF0qSrlhnNqy/MPHq5Pw7YdBSYCAAAABTQAdBgXjjsqIw7rmSR5o2F77n7y1YITAQAA0NkpoAGgg+jWpSrXT9y1Bf29h5Zka2NTgYkAAADo7BTQANCBXPTxo3Nk/x5Jktc3bss/PL2i4EQAAAB0ZgpoAOhAenbrkmsnjCrP35lbl+07mgtMBAAAQGemgAaADuarnzwmR/TtniRZ/ubW3Dd/ZcGJAAAA6KwU0ADQwfTp0TVXn1lTnr89py47mmxBAwAAcOgpoAGgA7r0tBEZ2KtrkmTxG5vzi+deLzgRAAAAnZECGgA6oP49u+WqM6rL862z6tLc3FJcIAAAADolBTQAdFBXnlGdvj26JEn+ffWm/PqF1QUnAgAAoLNRQANABzWod/dcftrI8nzLrMVpabEFDQAAwKGjgAaADuzrZ9akV7edb/cLVm7MbxetLTgRAAAAnYkCGgA6sCH9euTiU0eU55t/bwsaAACAQ0cBDQAd3DVnj0r3Ljvf8p9aviFzXllXcCIAAAA6CwU0AHRwRw3omS994ujyfMusxQWmAQAAoDNRQANAJ3DdxFHpUlVKkjxUtz6PLVlfcCIAAAA6AwU0AHQC1YN6Z/K4I8vzrbPrCkwDAABAZ6GABoBO4oZzavMfS9B54MW1+cPyDcUGAgAAoMNTQANAJzHmiL75/EeGl+dbZ9mCBgAAoLIU0ADQiXzznGPLj/954er8r9c2FpgGAACAjk4BDQCdyInD++WzHx5anme4FzQAAAAVpIAGgE5m6ru2oH/x3Ot5ac2mAtMAAADQkSmgAaCTGXfMgJx//BFJkpaW5Nu2oAEAAKgQBTQAdELTJu3agr7v2deydN3mAtMAAADQUSmgAaATGl9zWCYcOzhJ0tTcktvm2IIGAACg9SmgAaCT+qtzd21Bz/zDiqzYsKXANAAAAHRECmgA6KTOrh2U8dWHJUkam1ryvYeWFpwIAACAjkYBDQCdVKlUyrRJteX57nnLs/rtbQUmAgAAoKNRQANAJ/ap44/Ix47unyTZuqM5P3jYFjQAAACtRwENAJ3Yzi3oXfeC/skTy7KuYXuBiQAAAOhIFNAA0Ml9+oShOWFY3yTJpm1NufPR+mIDAQAA0GEooAGgk6uqKmXqObu2oO98rD5vbWksMBEAAAAdhQIaAMjnPjI8ow/vnSTZsGVHfvz4soITAQAA0BEooAGAdKkq5Zvv2oL+wcNL07BtR4GJAAAA6AgU0ABAkuQvxh2ZkYf1SpKs29yYv3tyecGJAAAAaO8U0ABAkqRbl6pcP3FUef7e3KXZ2thUYCIAAADaOwU0AFD2xY8fnSP790iSrHp7W/7h6RUFJwIAAKA9U0ADAGU9u3XJtRN2bUF/Z25dtu9oLjARAAAA7ZkCGgDYzVc/eUyO6Ns9SbL8za25b/7KghMBAADQXimgAYDd9OnRNVefWVOeZ8yuy44mW9AAAAB8cApoAOA9Lj1tRA7r1S1JUrduc37+x9cLTgQAAEB7pIAGAN6jf89uueqM6vJ86+y6NDe3FBcIAACAdkkBDQDs0RVnjEy/Hl2TJItWb8r9L6wqOBEAAADtjQIaANijQb2757LTRpTnW35fl5YWW9AAAADsPwU0ALBXXz+zJr267fzrwh9f25jfLlpbcCIAAADaEwU0ALBXQ/r1yMWn7tqCvvn3i21BAwAAsN8U0ADA+7rm7FHp3mXnXxmeWr4hc15ZV3AiAAAA2gsFNADwvo4a0DNf+sTR5fnmWYsLTAMAAEB7ooAGAPbpuomj0rWqlCR5uG59Hl2yvuBEAAAAtAcKaABgn6oH9c7kcUeV51ttQQMAALAfFNAAwH65/pxR+Y8l6PzbS2/kD8s3FBsIAACANk8BDQDslzFH9M3nPzK8PN86q67ANAAAALQHCmgAYL9985xjy4//eeHq/K/XNhaYBgAAgLZOAQ0A7LcTh/fLZz88tDzPmG0LGgAAgL1TQLNP1113Xc4555wcc8wx6dWrVwYNGpSPfvSjuemmm7Ju3br9Pqe6ujqlUmmPX8OGDavgTwBAa5r6ri3oXzz3el5cvanANAAAALRlXYsOQNv3wx/+MB/72Mdy7rnnZsiQIWloaMiTTz6Z6dOn5+67786TTz6ZY445Zr/OGjBgQKZMmfKe63379m3t2ABUyLhjBuSCsUfkt4vWpqUl+facuvzP/35y0bEAAABogxTQ7NPGjRvTs2fP91yfOnVqZsyYkW9/+9v5yU9+sl9nDRw4MNOnT2/lhAAcatMmHZvfLlqbJPnHZ1/LjeeNzqjBvQtOBQAAQFvjFhzs057K5yT53Oc+lyR55ZVXDmUcANqAU6sPy8RjBydJmppb8p057gUNAADAe9mA5oD967/+a5LkpJNO2u/XbNu2Lffdd1+WL1+ePn365KSTTsqZZ56ZLl26VComABUy7dxjM2fxzs8CmPmHFfmrc4/N0QN7FZwKAACAtkQBzX77/ve/n02bNuWtt97KM888k8ceeywnnXRSrr/++v0+Y9WqVZk8efJu12pqajJz5sycddZZrR0ZgAo6u3ZQxlcflifq30xjU0u+99DS3PGZDxUdCwAAgDak1NLS0lJ0CNqHYcOGZfXq1eX5U5/6VH72s59l6NCh+/X6m266KWeccUZOOOGE9OvXL0uWLMmPfvSj3H333enZs2fmzZuXk0/e94dYjRs3bo/XFy1alLFjx2b+/Pn79wMBcNB+t2hNLrjnmSRJz65VqZ82IUP79Sg4FQAA0Fre6WH0LRwo94Bmv61atSotLS1ZtWpVfvWrX2XJkiX56Ec/mmeffXa/Xn/jjTdm4sSJGTp0aHr37p0TTzwxd911V66++ups2bLFhxMCtEOfOv6IfOzo/kmSrTua84OHlxacCAAAgLbEBjQHbNmyZRkzZkxGjx6dF1544YDPWbx4cUaPHp1BgwZl3bp1B3yO38gBFOP+51flz3+285eRfbp3ybJpEzK4T/eCUwEAAK1B38LBsgHNARs5cmQ+9KEPZeHChXnjjTcO+JwhQ4YkSRoaGlorGgCH0KdPGJoTh/VNkjRsb8odj9YXGwgAAIA2QwHNQXnttdeSJF26dDngM+bNm5ckGTVqVKtkAuDQqqoqZeqkY8vznY/W560tjQUmAgAAoK1QQPO+Xnzxxaxateo915ubmzN16tSsWbMm48ePz2GHHZYkaWxszIsvvpi6urrdvn/hwoVZv379e85ZtmxZLr/88iTJhRdeWIGfAIBD4b+ePDyjD++dJHlr6478+PFlBScCAACgLehadADatgceeCDXXnttzjzzzNTW1mbw4MFZvXp1Hn744SxZsiTDhg3LT3/60/L3r1y5MmPHjv3/2bvz8Cirg/3j98xkmyxkI0AQSCAQFpEtlCUEMKCAWIuW1rYqFtQWqezYyu+lgqil9S2bWCitWhdc2heKtpaKUYgIYZMtArImBAKYRALZJntmfn9EBgIhCWR5Jsn3c125zJzzzDP3xLlgcnPmPAoLC1NKSopzfO3atfrDH/6g2NhYdezYUX5+fkpKStKGDRtUWFiosWPH6umnnzbgGQIA6oLFbNL/jOysSf/4SpK0dMspzRgaLh9P3moAAAAAQHPGb4Wo0l133aVf/vKXSkhIUGJiorKysuTj46PIyEhNmDBB06dPV1BQULXniY2N1bFjx7R//37t2LFDNptNAQEBiomJ0YQJEzRhwgSZTKYGeEYAgPrycFRbPRd3QqcvFSgzv0R/2XlGs4ezvRIAAAAANGcmh8PhMDoEUBe4KisAGG/19tOa8s/DkqQ2fp46Ne9Oebnf+nUCAAAAABiLvgW1xR7QAACgzkz8Xju1beEpSUrLLdLru1INTgQAAAAAMBIFNAAAqDNe7hb9JvbKthsvxSeruNRuYCIAAAAAgJEooAEAQJ36xaAOCvH1kCSlZhVqzd5zBicCAAAAABiFAhoAANQpbw+L5gzv6Lz9+01JKi1jFTQAAAAANEcU0AAAoM5Nie6gQKu7JCkpM1//OPCNwYkAAAAAAEaggAYAAHWuhZe7ZgwNd97+3aYk2e0O4wIBAAAAAAxBAQ0AAOrFtKFh8vN0kyQdSc/TB4fSDE4EAAAAAGhoFNAAAKBeBHl76KkhHZy3X/w0SQ4Hq6ABAAAAoDmhgAYAAPVm1rCOsrqXv904cD5HG45kGJwIAAAAANCQKKABAEC9aeXnqScHswoaAAAAAJorCmgAAFCvnr6zkzws5W85dp3J0qYTmQYnAgAAAAA0FApoAABQr9r6e+nxge2ct1/87KSBaQAAAAAADYkCGgAA1LvfxHaSm9kkSdqSdFFbky8anAgAAAAA0BAooAEAQL0LD/LWhKjbnLd/xypoAAAAAGgWKKABAECDmDuyk75bBK1Pjl3Ql2eyjA0EAAAAAKh3FNAAAKBBRIb46id9Qp232QsaAAAAAJo+CmgAANBg5t3V2fn9vw9nKPF8joFpAAAAAAD1jQIaAAA0mNvb+OmHd7R23l70WZKBaQAAAAAA9Y0CGgAANKirV0Gv/eobHU3PMzANAAAAAKA+UUADAIAG1a+dv8Z2D5EkORzS7zezChoAAAAAmioKaAAA0OB+e9Uq6Hf3nVdyZr6BaQAAAAAA9YUCGgAANLjB4YEa0TlYklRmd+glVkEDAAAAQJNEAQ0AAAzx27uvrIJ+48uzSr1UYGAaAAAAAEB9oIAGAACGuDMiSNHhgZKkkjKH/vh5ssGJAAAAAAB1jQIaAAAYwmQy6dmrVkG/ujNVaTlFBiYCAAAAANQ1CmgAAGCY0V1bKqpdC0lSYaldS7ecMjgRAAAAAKAuUUADAADDmEwm/fauK6ugV20/rUxbsYGJAAAAAAB1iQIaAAAY6ge3t1bPNr6SJFtxmV7emmJsIAAAAABAnaGABgAAhjKbTZp31SroFVtTlF1QYmAiAAAAAEBdoYAGAACG+3HvUHVp6S1Jyi4s1cqE0wYnAgAAAADUBQpoAABgOIvZpP8ZeWUV9NItp5RXVGpgIgAAAABAXaCABgAALuHhqLYKD7JKkjLzS/SXHWcMTgQAAAAAqC0KaAAA4BLcLWbNHRHhvL3481MqKCkzMBEAAAAAoLYooAEAgMuY+L3b1LaFpyQpLbdIf9uVanAiAAAAAEBtUEADAACX4elm0W9iOzlvvxSfrOJSu4GJAAAAAAC1QQENAABcyi8GdVCIr4ckKTWrUGv2njM4EQAAAADgVlFAAwAAl+LtYdGc4R2dt3+/KUmlZayCBgAAAIDGiAIaAAC4nCnRHRRodZckJWXm6+8HvjE4EQAAAADgVlBAAwAAl9PCy10zhoY7b//us5Oy2x3GBQIAAAAA3BIKaAAA4JKmDw2Xn6ebJOlohk3rD6YZnAgAAAAAcLMooAEAgEsK9HbX1Jgw5+0XPzsph4NV0AAAAADQmFBAAwAAlzVrWLis7uVvVxLP52rDkQyDEwEAAAAAbgYFNAAAcFkhvp56cnAH5+0XP01iFTQAAAAANCIU0AAAwKU9fWcneVjK37LsOpOlTScyDU4EAAAAAKgpCmgAAODS2vp76fGB7Zy3X/j0pIFpAAAAAAA3gwIaAAC4vGdiI+RmNkmSvki+qC+SLhqcCAAAAABQExTQAADA5YUFWfVo/9uct3/3GaugAQAAAKAxoIAGAACNwtwREfpuEbTijl/Q7jNZxgYCAAAAAFSLAhoAADQKXUJ89NM+bZ23WQUNAAAAAK6PAhoAADQa/3NXhPP7fx/OUOL5HAPTAAAAAACqQwENAAAajdvb+OmHd7R23l70WZKBaQAAAAAA1aGABgAAjcq8uzo7v1/71Tc6mp5nYBoAAAAAQFUooAEAQKPSr52/xnYPkSQ5HNKiTayCBgAAAABXRQENAAAand9etQr6vf3nlXTBZmAaAAAAAMCNUEADAIBGZ3B4oEZ2CZYkldkdeik+2eBEAAAAAIDKUEADAIBG6epV0G9+eVaplwoMTAMAAAAAqAwFNAAAaJSGRwRpSHigJKmkzKE/fs4qaAAAAABwNRTQAACgUTKZTPrt3VdWQb+6M1VpOUUGJgIAAAAAXIsCGtV65plnNHLkSLVv315Wq1VBQUHq27evFi5cqMzMzJs619mzZ/XYY4+pbdu28vT0VHh4uGbOnKlLly7VU3oAQFM2umtLRbVrIUkqLLVr6ZZTBicCAAAAAFzN5HA4HEaHgGvz8PBQv3791KNHD7Vq1Uo2m007d+7Unj171LZtW+3cuVPt27ev9jxJSUmKjo5WRkaGxo0bp27dumn37t2Kj49X165dlZCQoODg4FvOGRUVJUnau3fvLZ8DAND4fHgwTQ+8uU+S5ONhUcq8WLX09TA4FQAAANA00LegttyMDgDXl5OTIy8vr+vG582bp0WLFun3v/+9Vq1aVe15fvWrXykjI0MrVqzQtGnTnOOzZ8/WsmXLNG/ePK1evbpOswMAmr4f3N5aPdv46lBanmzFZXp5a4peuCfS6FgAAAAAALEFB2qgsvJZkh588EFJ0okTJ6o9R3JysuLi4hQeHq6nnnqqwtzChQvl4+OjNWvWyGaz1T4wAKBZMZtN+u1dV/aCXrEtRVkFJQYmAgAAAABcRgGNW/bRRx9Jknr16lXtsZs3b5YkjRo1SmZzxZedn5+fhgwZovz8fO3cubPugwIAmrwf9Q5VZIiPJCmnsFQrE04bnAgAAAAAILEFB27C4sWLlZeXp+zsbO3Zs0fbtm1Tr169NHfu3Grve+zYMUlSZGTlH4nu0qWL4uLidPz4cY0cObLKc13ee+haR44cUffu3avNAgBoeixmk/5nZIQm/v0rSdKyLac0Y2i4fD15qwMAAAAARuK3MtTY4sWLlZ6e7rw9ZswYvfnmmwoJCan2vtnZ2ZIkf3//Sucvj2dlZdVBUgBAc/RQv7Z6Lu6EUi4WKDO/RH/ZcUZz7uxkdCwAAAAAaNbYggM1lpaWJofDobS0NK1fv17Jycnq27ev9u3bV+tzOxwOSZLJZKr22L1791b6xepnAGje3C1mzR0R4bz9x8+TlVdUamAiAAAAAAAFNG5a69at9cADDyguLk6ZmZl69NFHq73P5RXOl1dCXysnJ6fCcQAA3IqJ37tNbVt4SpLSc4s14OXtOvhNjsGpAAAAAKD5ooDGLQsLC1OPHj10+PBhXbhwocpju3btKkk6fvx4pfMnTpyQdOM9ogEAqAlPN4teGHPl75Ij6Xn63vLt+vP2085P2wAAAAAAGg4FNGrl/PnzkiSLxVLlcbGxsZKkuLg42e32CnO5ublKSEiQ1WrVoEGD6icoAKDZmDSgnV5/8A55e5T/3VRUatev/nlYP3prny7llxicDgAAAACaFwpoVOno0aNKS0u7btxut2vevHnKyMhQdHS0AgMDJUklJSU6evSokpKSKhwfERGhUaNGKSUlRStXrqwwt2DBAtlsNj366KPy8fGpvycDAGgWTCaTHhvYXntmDlGvUD/n+PqD6eqzdKsSTl00MB0AAAAANC8mB59HRRWWL1+uX//61xo2bJgiIiIUHBys9PR0bdmyRcnJyWrTpo02bdqkHj16SJJSUlLUsWNHhYWFKSUlpcK5kpKSFB0drYyMDI0bN07du3fXrl27FB8fr8jISG3fvl3BwcG3nDUqKkpS+UUKAQCQpMKSMj390VGtTDjtHLOYTXp+dBc9MyJCFnP1F78FAAAAmjP6FtQWBTSqdOjQIf35z39WQkKCzp49q6ysLPn4+CgyMlL33nuvpk+frqCgIOfxVRXQkpSamqr58+dr48aNyszMVGhoqO6//34tWLCgwnluBX8gAgBu5IODaXr8Hwd1qeDKFhwjOgfrnYd7K7SFl4HJAAAAANdG34LaooBGk8EfiACAqpy5VKCH3jmghJRLzrEQXw+99dNeuqd7KwOTAQAAAK6LvgW1xR7QAACgWegQaNXnvxqo397VWabvdt74Nq9YY1/bo6f/fUTFpfaqTwAAAAAAuGkU0AAAoNlws5j1wj2R2vTkQIW28HSOL9lySkP+tENJF2wGpgMAAACApocCGgAANDuxnYOVOCdGY7uHOMf2pGar79IEvb/vvIHJAAAAAKBpoYAGAADNUoivpz56rL+W/qC73C3le3LkFpXqoXcP6LG/fyVbUanBCQEAAACg8aOABgAAzZbZbNKs4R21Y1q0IoK9neNvfHlW/ZcnKPF8joHpAAAAAKDxo4AGAADNXlR7f+2bPUQP9W3rHDuaYdPAl7dr5bYUORwOA9MBAAAAQONFAQ0AACCphZe73nm4t974SS95e1gkSUWldk394Gv98M19uphfbHBCAAAAAGh8KKABAAC+YzKZNHFAO+2bNUS92/o5xz88lK4+S7ZpW/JFA9MBAAAAQONDAQ0AAHCNrq18tXN6tKbFhDnHUrMKNXzVTr3w6QmV2dmSAwAAAABqggIaAACgEl7uFq144HZ9OClKQd7ukiS7Q5q/8YTuWr1L57MLDU4IAAAAAK6PAhoAAKAK43q21oHZMRraKdA59nnSRfVesk0bvs4wMBkAAAAAuD4KaAAAgGq0D7Rq85MDNf/uzjKbyscu2Ir1/df3aPa/vlZRaZmxAQEAAADARVFAAwAA1ICbxayFYyK16cmBatvC0zm+7IsUDXllh05esBmYDgAAAABcEwU0AADATbizc7AS5wzV93u0co7tPZujvku36Z295wxMBgAAAACuhwIaAADgJrX09dC/H4vS8nHd5WEpfzuVV1SmCe8lauL7/N8zBgAAIABJREFUicorKjU4IQAAAAC4BgpoAACAW2AymTRjWEftmD5YXVp6O8ff2nNOUcsSdOBcjoHpAAAAAMA1UEADAADUQr92/to7K0YTom5zjh3/1qaBL2/XK1tT5HA4DEwHAAAAAMaigAYAAKglPy83vf1Qb731s17y8bBIkorL7Jr+4de6/429yrQVG5wQAAAAAIxBAQ0AAFBHHu3fTvtmD1Hf21o4x/59OEN9lmzTF0kXDUwGAAAAAMaggAYAAKhDkSG+2jF9sGYMDXeOnc0uVOyfd2rhJydUZmdLDgAAAADNBwU0AABAHfN0s2j5/T3078eiFOztLkmyO6Tn4k5o5OpdOptVYHBCAAAAAGgYFNAAAAD15L7bW+vAnBgN6xTkHNuSdFF9lmzTf75ONzAZAAAAADQMCmgAAIB61C7Aqs1TBuq5UV1kNpWPZeaX6L7X92rmh1+rqLTM2IAAAAAAUI8ooAEAAOqZxWzSgtFdFD9lkG7z93KOv7w1RYNX7NDxb/MMTAcAAAAA9YcCGgAAoIEMiwhS4pwY/eD2Vs6x/edy1G9pgt7ec9bAZAAAAABQPyigAQAAGlCwj4c+nBSlFff3kIel/K2YrbhMP3//Kz36XqJyC0sNTggAAAAAdYcCGgAAoIGZTCZNGxquXTOiFRni4xxfs/ecopZt076z2QamAwAAAIC6QwENAABgkD63tdDeWUP08/63OcdOXMjX4BU79PIXp+RwOAxMBwAAAAC1RwENAABgIF9PN735s95a81Bv+XpaJEnFZXbN/NcR/eBve3Uhr9jghAAAAABw6yigAQAAXMAjUbdp36wY9WvXwjn2n68z1HvJVm1JyjQwGQAAAADcOgpoAAAAF9ElxEfbpw3WrGHhzrHzOUUa8eddWrDxuErL7MaFAwAAAIBbQAENAADgQjzdLFo6rof+83h/tfTxkCTZHdLzn57UiNW7lHqpwOCEAAAAAFBzFNAAAAAu6N4erXRgTozujAhyjm1NvqQ+S7fp34fSDUwGAAAAADVHAQ0AAOCibvP30mdPDtQLYyJlNpWPXcwv0bg39mr6B4dVWFJmbEAAAAAAqAYFNAAAgAuzmE367d2dteVXg9Q+wMs5/sq20xq0YruOZeQZmA4AAAAAqkYBDQAA0AjEdArSgTkxur9na+dY4vlcRS1L0FtfnpXD4TAwHQAAAABUjgIaAACgkQjy9tD6if30pwd6yNOt/G2crbhME//+lSa8l6jcwlKDEwIAAABARRTQAAAAjYjJZNJTMeHaNSNaXUN8nOPv7juvfsu2aW9qtoHpAAAAAKAiCmgAAIBGqHfbFto7a4geG9DOOXbyQr4Gv7JdS7cky25nSw4AAAAAxqOABgAAaKR8PN30+k966d2He8vP002SVFLm0Jx/H9V9f9ujb/OKDE4IAAAAoLmjgAYAAGjkHup3m/bPHqL+7f2dY/898q16L9mm+JOZBiYDAAAA0NxRQAMAADQBES19lDB1sOYM7+gc+yanSCNX79KzHx9XaZndwHQAAAAAmisKaAAAgCbCw82sxT/orv8+0V8hvh6SJIdDevGzk7pz1S6duVRgcEIAAAAAzQ0FNAAAQBNzT/dWSpwToxGdg51jCSmX1GfJNn1wMM3AZAAAAACaGwpoAACAJii0hZfiJg/Q7+6JlMVskiRdKijRD9/cp6f+eUiFJWUGJwQAAADQHFBAAwAANFEWs0n/c1dnffGrQeoQ6OUcX7X9jAa+vF1H0vMMTAcAAACgOaCABgAAaOKiOwbqwOyh+uEdrZ1jX32Tq/7LE/TG7lQ5HA4D0wEAAABoyiigAQAAmoFAb3et+3k/rRp/uzzdyt8C5heX6bF/HNTD7x5QTmGJwQkBAAAANEUU0AAAAM2EyWTSlOgw7Z4Rre6tfZ3j7+//Rn2XJujLM1kGpgMAAADQFFFAAwAANDO92rbQlzOi9cTA9s6x5Mx8Rb+yQ0s+T5bdzpYcAAAAAOoGBTQAAEAz5OPpplcfvEPvP9JHfp5ukqRSu0NPf3RU976+Rxm5RQYnBAAAANAUUEADAAA0Yz/t21YH5sRoQAd/59jGo9+q95Jt2nT8goHJAAAAADQFFNAAAADNXKdgb219arB+fWcn51habpHu/utuzfvvMZWW2Q1MBwAAAKAxo4AGAACAPNzM+t/7umnjL76nEF8PSZLDIS3alKThq3bp9MUCgxMCAAAAaIwooAEAAOA0uluIEufE6K4uwc6x7SmX1GfpVv3zq28MTAYAAACgMaKABgAAQAWhLbz0yS8H6Pdju8piNkmSsgpK9aO39mvKukMqKCkzOCEAAACAxoICGgAAANcxm02aOzJCW58apLBAq3N89Y4zGrA8QV+n5RqYDgAAAEBjQQGNKmVmZuq1117TAw88oM6dO8tqtcrf318xMTF6/fXXZbfX/KJE4eHhMplMlX61adOmHp8FAAC4VYPDA3VgTox+1OvK39WH0vLUf3mCXtuZKofDYWA6AAAAAK7OzegAcG1r167VlClTFBoaqtjYWHXo0EHp6elav369nnjiCX388cdau3atTCZTjc7n7++vmTNnXjfu6+tb19EBAEAdCbC66/8e7atXd6Zqxodfq7DUroISu36x9qA+O3FBf/lRT/lb3Y2OCQAAAMAFmRwsW0EVNm/eLJvNpnvvvVdm85UF82lpaRowYIBSU1O1bt06jR8/vtpzhYeHS5JSUlLqJWtUVJQkae/evfVyfgAAIB36Jlc/WbNfX6fnOcc6Bln1/iN9NTAswMBkAAAAqA/0LagttuBAlUaMGKH77ruvQvksSW3atNGTTz4pSfr8888NSAYAAIzQM9RPX84col8Oau8cO3WxQDF/2qE/xifLbmdtAwAAAIAr2IIDt8zdvfyjtm5uNX8ZFRUV6Z133tGZM2fk4+OjXr16adiwYbJYLPUVEwAA1DFvD4v+8uM7dFdkSz3xfweVU1iqUrtDv/nPUW06cUFv/ay3Wvt5Gh0TAAAAgAuggMYtKS0t1dtvvy1JGjNmTI3vl5aWpgkTJlQY69ixo9544w0NHz68TjMCAID69ePeoerfzl8/e+eAdp3JkiR9cuyCei/ZqjU/6627u4YYnBAAAACA0diCA7dk7ty5OnTokMaOHavRo0fX6D6TJk3Spk2blJaWJpvNpoMHD2ry5MlKSUnRPffco8TExBqdJyoqqtKvI0eO1OYpAQCAW9Ax2Ftbpw7S3BGdnGPpucUa/eqX+n8bjqqkzG5gOgAAAABG4yKEuGkrVqzQjBkz1K1bNyUkJCgoKKhW53v66ae1ZMkS3X///frggw+qPf7y5vfXOnLkiLp3786m+AAAGCTu2Lea8F6iMvKKnWODwgL0/iN9FB7kbWAyAAAA3CouQojaooDGTVm5cqWmTp2qHj16aNOmTWrTpk2tz3ny5El16dJFQUFByszMvOXz8AciAADGS88t0qPvJSru+AXnmL+Xm1598A79uHeogckAAABwK+hbUFtswYEaW758uaZOnaqePXsqPj6+TspnSWrVqpUkyWaz1cn5AACAcVr7eerjX3xPL93bVW5mkyQpu7BUD769X0+uO6iCkjKDEwIAAABoSBTQqJGXXnpJs2bNUp8+fRQfH+8sjevCjh07JEmdOnWq5kgAANAYmM0m/WZEhLZNHazwIKtz/C87UvW95Qk6nJZrYDoAAAAADYkCGtV64YUXNHfuXEVFRWnTpk1q2bLlDY8tKSnR0aNHlZSUVGH88OHDunjx4nXHnz59WlOnTpUkPfLII3UbHAAAGGpgWID2z47Rg1dtvXE4LU/9lyXorzvOiJ3gAAAAgKbPzegAcG1vvfWW5s+fL4vFoqFDh2rFihXXHRMeHq6JEydKks6dO6fu3bsrLCxMKSkpzmPWrl2rP/zhD4qNjVXHjh3l5+enpKQkbdiwQYWFhRo7dqyefvrpBnpWAACgoQRY3fX3CX10d2RLTf/wsApK7CostWvyukP67MQF/fXHdyjA6m50TAAAAAD1hAIaVTp16pQkqaysTMuXL6/0mOHDhzsL6BuJjY3VsWPHtH//fu3YsUM2m00BAQGKiYnRhAkTNGHCBJlMprqODwAAXIDJZNITg9prcHiAfrJmvw6n5UmS1iamafeZbP19Qh8NCgs0OCUAAACA+mBy8NlHNBFclRUAANdXUFKm2f86otU7zjjHLGaTfndPpH59ZyeZzfyDNAAAgCuhb0FtsQc0AAAAGozV3aI//6in1v28r/y9yj+MV2Z3aO6GYxrz6pdKyykyOCEAAACAukQBDQAAgAY3vleoDsyJ0eCwAOfYp8cvqPeSrfrk6LcGJgMAAABQlyigAQAAYIjwIG9teWqQ/t/ICF2+FERGXrHGvPqlnvnPUZWU2Y0NCAAAAKDWKKABAABgGHeLWYvGdlXcLweojZ+nc/x/45MV86cdSs7MNzAdAAAAgNqigAYAAIDh7opsqcQ5MRrTLcQ5tvtMtvou3aZ/7D9vYDIAAAAAtUEBDQAAAJfQys9TGx7vrz9+v5vczOV7cuQUluqn7xzQL/7voPKLywxOCAAAAOBmUUADAADAZZjNJj0d20kJ0warU7C3c/y1Xan63vIEHfwmx8B0AAAAAG4WBTQAAABczoAOAdo3a4h+2ifUOfZ1ep4GLN+u1dtPy+FwGJgOAAAAQE1RQAMAAMAl+Vvd9d4jffT6g3fI6l7+trWw1K4p/zysH7+9X5fySwxOCAAAAKA6FNAAAABwWSaTSY8NbK+9s2J0R6ifc/yfX6Wpz9Kt2n7qkoHpAAAAAFSHAhoAAAAur3trX+2aEa1fRXdwjp25VKhhq3Zq0WcnVWZnSw4AAADAFVFAAwAAoFGwulu0cnxPrZ/YTwFWN0lSmd2heR8f1+i/7tY3OYUGJwQAAABwLQpoAAAANCoP3NFGB2YPVXR4oHNs04lM9V6yTR8fyTAwGQAAAIBrUUADAACg0QkLsmrLrwZq3l0RMpnKx77NK9bY1/bo1x8dUXGp3diAAAAAACRRQAMAAKCRcrOY9eI9XfXZ5AEKbeHpHF/8+SnF/GmHki7YDEwHAAAAQKKABgAAQCM3oktLJc6J0T3dQpxjX6Zmq+/SBL2/77yByQAAAABQQAMAAKDRC/H11H8e768lP+gmd0v5nhy5RaV66N0DevwfX8lWVGpwQgAAAKB5ooAGAABAk2A2mzR7eCdtnzZYEcHezvG/7T6r/ssT9NX5HAPTAQAAAM0TBTQAAACalP7tA7Rv9hA91Letc+xohk0DXt6uVQmn5XA4DEwHAAAANC8U0AAAAGhyWni5652He+uNn/SSt4dFklRUatdT6w9r/Fv7dDG/2OCEAAAAQPNAAQ0AAIAmyWQyaeKAdto7c4h6t/Vzjn9wMF19lmzTtuSLBqYDAAAAmgcKaAAAADRp3Vr7auf0aE0dEuYcS80q1PBVO/XipydVZmdLDgAAAKC+UEADAACgyfNyt+iVH96uDydFKdDqLkmyO6RnNx7X3X/ZrfPZhQYnBAAAAJomCmgAAAA0G+N6tlbinBjFdAx0jsWfzFTvJdu04esMA5MBAAAATRMFNAAAAJqV9oFWxU8ZqPl3d5bJVD52wVas77++R3P+fUTFpXZjAwIAAABNCAU0AAAAmh03i1kLx0Rq85MD1baFp3N86ZZTin5lu05esBmYDgAAAGg6KKABAADQbN3ZOViJc4bq3u4hzrG9Z3PUd+k2vbv3nIHJAAAAgKaBAhoAAADNWktfD330eH8tG9dd7pbyPTnyisr0yHuJmvT3ROUVlRqcEAAAAGi8KKABAADQ7JlMJs0c1lE7pkWrc0tv5/ibX55T/2UJOnAux8B0AAAAQONFAQ0AAAB8J6q9v/bNitEjUW2dY8e+tWngy9v1p20pcjgcBqYDAAAAGh8KaAAAAOAqfl5uWvNQH731s17y8bBIkorL7Jr2wdd64I19yrQVG5wQAAAAaDwooAEAAIBKPNq/nfbNHqI+bVs4x/51OF19lmzT1uSLBiYDAAAAGg8KaAAAAOAGIkN8tXPGYE0fGu4cO5tdqDtX7dTzcSdUZmdLDgAAAKAqFNAAAABAFTzdLHr5/h7616QoBXm7S5LsDmnBJyc0cvUuncsuNDghAAAA4LoooAEAAIAa+EHP1kqcE6NhnYKcY1uSLqr34q36z9fpBiYDAAAAXBcFNAAAAFBD7QKs2jxloJ4b1UVmU/lYZn6J7nt9r2Z++LWKSsuMDQgAAAC4GApoAAAA4CZYzCYtGN1Fm6cM1G3+Xs7xl7emaPCKHTrxrc3AdAAAAIBroYAGAAAAbsHwiGAlzonRfT1aOcf2n8tRv2XbtGbPOQOTAQAAAK6DAhoAAAC4RcE+HvrXY1F6+f4e8rCUv7XOKyrTo+8n6ufvJyqvqNTghAAAAICxKKABAACAWjCZTJo+NFw7pw9WZIiPc/ztPefUb+k27T+bbWA6AAAAwFgU0AAAAEAd6NvOX3tnDdHP+9/mHDtxIV+DVuzQy1+cksPhMDAdAAAAYAwKaAAAAKCO+Hq66c2f9daah3rL19MiSSous2vmv45o3N/26kJescEJAQAAgIZFAQ0AAADUsUeibtO+WTHq166Fc+yjrzPUZ+k2bUnKNDAZAAAA0LAooAEAAIB60CXER9unDdbMYeHOsXPZhRrx51167pPjKi2zGxcOAAAAaCBuRgcAAAAAmipPN4uWjeuhkV2CNfH9r5SZXyK7Q1oYd1IfHkrX99oHKDzIqrBAq8IDy//b1t9LFrPJ6OgAAABAnaCABgAAAOrZ93u0VuLTQ/XIuwf0edJFSVLi+Vwlns+97lg3s0ntA7zKS+nvyuny770VFmhV+wAvuVv4ICMAAAAaBwpoAAAAoAHc5u+lz54cqEWbTmph3EmV2R2VHldqd+jUxQKdulggJV0/bzJJt7WorKAu/2+HQKus7pZ6fjYAAABAzVBAAwAAAA3EYjbp2bu76PEB7bXvXLZSLhbo9KXyr8vfZ+QVV3kOh0M6m12os9mFSki5VOkxrf08vtvWw/u6ojos0Co/L34NAAAAQMPgnScAAADQwNr6e6mtv1elc/nFZTpzuZR2ltP5On2pUKcvFeh8TqEclS+edkrPLVZ6brF2n8mudD7I273i6ulrtvkIsLrJZGIfagAAANQeBTQAAADgQrw9LOrW2lfdWvtWOl9caldqVkHF1dNXraI+m114w+09LruYX6KL+SXadzan0nk/T7frC+qgK0V1iK8HBTUAAABqhAIaAAAAaEQ83MyKaOmjiJY+lc6Xltl1Pqfomu098p1F9ZlLhSous1f5GLlFpTr4Ta4OfnP9RRIlyepuvm7vaeeWH0FWhfp5ymymoAYAAAAFNAAAANCkuFnM6vDdxQgrY7c7lJ53paCubCV1fnFZlY9RUGLX0QybjmbYKp33sJjVPqDihRKvLqrb+XvJzWKu9XMFAACA66OABgAAAJoRs9mk0BZeCm3hpcHhgdfNOxwOXbAVX3dxROd/LxUop7C0yscoLrMrKTNfSZn5lc5bzCbd5u95wwsldgj0kqebpU6eLwAAAIxFAQ0AAADAyWQyKcTXUyG+nurfPqDSY7IKSq5fPf3dNh+nLxXqgq24yscoszt05lKhzlwq1FZdqvSY0Baezj2nry2owwKt8vHkVxkAAIDGgHdtAAAAAG5KgNVdAVZ39W7botL5vKJSnblqS4/TFyteKDEtt6jax/gmp0jf5BRpx+msSudb+nhcf6HEq4pqf6t7rZ4jAAAA6gYFNAAAAIA65evpph5t/NSjjV+l84UlZUrNKvxu1XThd1t75DsL6nPZhbI7qn6MC7ZiXbAVa09qdqXz/l5uV+0/7a2wQK8KW34E+7jLZOJCiQAAAPWNAhoAAABAg/Jyt6hLiI+6hPhUOl9SZte57MIbXigxNatAJWVVN9TZhaVKPJ+rxPO5lc77eFiu294jPNCqsO++b+3rKbOZghoAAKC2KKABAAAAuBR3i1nhQd4KD/KudL7M7tA3OYU3vFDi6UsFKiy1V/kYtuIyfZ2ep6/T8yqd93Qzq0OA11UrqCvuQ32bv5csFNQAAADVooBGlTIzM/XBBx9ow4YNOnjwoM6dOycPDw/dcccdmjRpkiZNmiSz2Vzj8509e1bz58/Xxo0blZmZqdDQUN1///1asGCBAgOvvwo7AAAAcC2L2aR2AVa1C7BqSMfr5x0OhzLyim94ocSUSwXKKyqr8jGKSu06cSFfJy7kS8q8bt7NbFK7AK8bXiixfYBVHm41f58MAADQVJkcDkc1u6uhOVu9erWmTJmi0NBQxcbGqkOHDkpPT9f69euVnZ2t8ePHa+3atTXaPy8pKUnR0dHKyMjQuHHj1K1bN+3evVvx8fHq2rWrEhISFBwcfMtZo6KiJEl79+695XMAAACg6XM4HLpUUFLh4ojXrqS+VFBSq8cwmaS2La4qqIMqXiixQ6BVVndLHT0jAADqD30LaosCGlXavHmzbDab7r333gorndPS0jRgwAClpqZq3bp1Gj9+fLXnGj16tOLi4rRixQpNmzbNOT579mwtW7ZMkydP1urVq285K38gAgAAoK7kFpZeuThiJUV1Rl5xrR+jla/HVftPf3ehxKArF0r08+IDqwAA49G3oLYooHHLFi1apHnz5mnq1Kl65ZVXqjw2OTlZERERCg8PV1JSUoUyOzc3V6GhoeUflczIkI9P5RejqQ5/IAIAAKCh5BeX6cylihdHPH3xyvfncwpV29+0grzdK79Q4ncrqgOt7jX6JCIAALVB34La4p/Uccvc3d0lSW5u1b+MNm/eLEkaNWrUdXtG+/n5aciQIYqLi9POnTs1cuTIug8LAAAA1CFvD4u6tfZVt9a+lc4Xl9qVmlXJ9h7f3U7NKlSZveqG+mJ+iS7ml2j/uZxK5/083cpXTd/gQomtfD0oqAEAgOEooHFLSktL9fbbb0uSxowZU+3xx44dkyRFRkZWOt+lSxfFxcXp+PHj1RbQl//l7VpHjhxR9+7dq80CAAAA1DcPN7MiWvooomXln+4rLbPrfE5RJftPl18o8UxWoYpK7VU+Rm5RqQ6l5elQWl6l81Z3szoEVCylnSupg7wV6ucps5mCGgAA1C8KaNySuXPn6tChQxo7dqxGjx5d7fHZ2dmSJH9//0rnL49nZWXVXUgAAADARblZzOoQWH4xwqGVzNvtDqXnFVUop69dSZ1fXFblYxSU2HXsW5uOfWurdN7dYlL7gKu29ahQUFsV4uMhs9kkk8ovqmg2Xf7+yhgrrAEAQHUooHHTVqxYoSVLlqhbt25as2ZNnZzz8lbkNXkDe6M9h260MhoAAABobMxmk0JbeCm0hZcGhQVeN+9wOJRpK7lyocRKiurswtIqH6OkzKHkzHwlZ+bXKqvJJJn0XUFtkkwyfVdYVyyrzVcX1zJdmb/u/uXj5fNXn+/q+191/HfjlT7eteer7FyVlOs3c64bP7drHs95/2se7/LPSpX8LKrK48x/7XOrSbbqntvV2erruVWRp4bP7fL3gCvz9bCoRxs/o2MAhqKAxk1ZuXKlZsyYoR49emjTpk0KCgqq0f0ur3C+vBL6Wjk5ORWOAwAAAHBjJpNJLX091NLXQ1HtK38PnVVQXlCfvmb/6csF9QVbcZ1kcTgkhyS786qLXOceAC4bHBag7dOjjY4BGIoCGjW2fPlyzZo1Sz179tSmTZvUqlWrGt+3a9eukqTjx49XOn/ixAlJN94jGgAAAMDNCbC6K8Dqrt5tW1Q6bysqdRbSlV0oMaugxFkul//XIbujfPX15TEAAIDqUECjRl566SXNnTtXffr00aeffqqWLVve1P1jY2MlSXFxcbLb7TKbzc653NxcJSQkyGq1atCgQXWaGwAAAEDlfDzd1KONX60+Gu5wOCqsgL5cVDscuq6stl/1vUMO2e1Xjq14//L7ld//6vNdc65rj736XHZHJcX5Nee6qly/cu4bPNZ1ua88t0rPde3P4XK2G57bUUnuuv2ZVv4zqZ+f6c38v6x47ss/05pnA1xd99a+RkcADEcBjWq98MILmj9/vqKiohQXF1flthslJSVKSkqSu7u7IiIinOMREREaNWqU4uLitHLlSk2bNs05t2DBAtlsNk2ePFk+PpVfJRwAAACA67m8z68kWcRmvAAA4Homh4N/M8SNvfXWW5o4caIsFoumTZtW6R7N4eHhmjhxoiQpJSVFHTt2VFhYmFJSUiocl5SUpOjoaGVkZGjcuHHq3r27du3apfj4eEVGRmr79u0KDg6+5ayXL0J4o4sUAgAAAAAA4ObQt6C2WAGNKp06dUqSVFZWpuXLl1d6zPDhw50FdFUiIiK0Z88ezZ8/Xxs3btR///tfhYaGavr06VqwYEGNL2gIAAAAAAAAoHFgBTSaDP5FDgAAAAAAoG7Rt6C2zNUfAgAAAAAAAADAzaOABgAAAAAAAADUCwpoAAAAAAAAAEC9oIAGAAAAAAAAANQLCmgAAAAAAAAAQL2ggAYAAAAAAAAA1AsKaAAAAAAAAABAvaCABgAAAAAAAADUCwpoAAAAAAAAAEC9oIAGAAAAAAAAANQLCmgAAAAAAAAAQL2ggAYAAAAAAAAA1AsKaAAAAAAAAABAvaCABgAAAAAAAADUCwpoAAAAAAAAAEC9oIAGAAAAAAAAANQLCmgAAAAAAAAAQL2ggAYAAAAAAAAA1AuTw+FwGB0CqAtBQUEqLCxU9+7djY4CAAAAAADQJBw5ckReXl66ePGi0VHQSLkZHQCoKy1atDA6Qp05cuSIJFGmw2XxGoWr4zUKV8drFK6O1yhcHa9RuLqm9Br18vJqUp0LGh4roAEXFBUVJUnau3evwUmAyvEahavjNQpXx2sUro7XKFwdr1G4Ol6jwBXsAQ0AAAAAAAAAqBcU0AAAAAAAAACAekEBDQAAAAB7Ne1/AAAMEklEQVQAAACoFxTQAAAAAAAAAIB6QQENAAAAAAAAAKgXJofD4TA6BAAAAAAAAACg6WEFNAAAAAAAAACgXlBAAwAAAAAAAADqBQU0AAAAAAAAAKBeUEADAAAAAAAAAOoFBTQAAAAAAAAAoF5QQAMAAAAAAAAA6gUFNAAAAAAAAACgXlBAAy7k7Nmzeuyxx9S2bVt5enoqPDxcM2fO1KVLl4yOBmjdunWaNm2ahg4dqhYtWshkMumRRx4xOhYgScrMzNRrr72mBx54QJ07d5bVapW/v79iYmL0+uuvy263Gx0R0DPPPKORI0eqffv2slqtCgoKUt++fbVw4UJlZmYaHQ+o1Jo1a2QymWQymfTaa68ZHQfNXHh4uPP1eO1XmzZtjI4HOG3dulXjx49XaGioPD09FRoaqlGjRum///2v0dEAQ7gZHQBAuaSkJEVHRysjI0Pjxo1Tt27dtHv3br388svauHGjEhISFBwcbHRMNGMvvviiEhMT5evrq3bt2uno0aNGRwKc1q5dqylTpig0NFSxsbHq0KGD0tPTtX79ej3xxBP6+OOPtXbtWplMJqOjohlbtmyZ+vXrp7vvvlutWrWSzWbTzp079dxzz+mvf/2rdu7cqfbt2xsdE3BKTU3VtGnT5Ovrq7y8PKPjAJIkf39/zZw587pxX19fA9IA13vxxRf17LPPqmXLlvr+97+v0NBQXbhwQfv379fnn3+usWPHGh0RaHAmh8PhMDoEAGn06NGKi4vTihUrNG3aNOf47NmztWzZMk2ePFmrV682MCGau/j4eLVr106dO3fWli1bFBsbq4cffljvvPOO0dEAbd68WTabTffee6/M5isf8EpLS9OAAQOUmpqqdevWafz48QamRHNXWFgoLy+v68bnzZunRYsWacqUKVq1apUByYDrORwO3X333Tp16pR++MMfavHixXr11Vf1xBNPGB0NzVh4eLgkKSUlxdAcwI2sXbtWDz74oO666y6tX79efn5+FeZLSkrk7u5uUDrAOGzBAbiA5ORkxcXFKTw8XE899VSFuYULF8rHx0dr1qyRzWYzKCEgxcbGqkuXLqwghUsaMWKE7rvvvgrlsyS1adNGTz75pCTp888/NyAZcEVl5bMkPfjgg5KkEydONGQcoEorVqzQ5s2b9cYbb8jHx8foOADg8ux2u5555hl5e3vrvffeu658lkT5jGaLLTgAF7B582ZJ0qhRo64rT/z8/DRkyBDFxcVp586dGjlypBERAaDRuvxG382Ntz1wTR999JEkqVevXgYnAcodOXJEc+fO1YwZMzRs2DDne1XAFRQVFemdd97RmTNn5OPjo169emnYsGGyWCxGR0Mzt337dp06dUo/+tGPFBgYqA0bNujQoUPy8vLSgAEDNHjwYKMjAobhNzHABRw7dkySFBkZWel8ly5dFBcXp+PHj1NAA8BNKC0t1dtvvy1JGjNmjMFpgHKLFy9WXl6esrOztWfPHm3btk29evXS3LlzjY4GqLS0VBMmTFCHDh20aNEio+MA10lLS9OECRMqjHXs2FFvvPGGhg8fblAqQPryyy8lSa1bt1a/fv108ODBCvPDhg3TunXrFBISYkQ8wFBswQG4gOzsbEnlF9SozOXxrKysBssEAE3B3LlzdejQIY0dO1ajR482Og4gqbyAXrhwoZYvX65t27ZpzJgxiouL4xdSuITnn39e+/fv15tvvimr1Wp0HKCCSZMmadOmTUpLS5PNZtPBgwc1efJkpaSk6J577lFiYqLREdGMZWRkSJJWr16tgoICffbZZ8rNzdWhQ4c0evRoffHFF/rxj39scErAGBTQQCNw+Vqh7L0LADW3YsUKLVmyRN26ddOaNWuMjgM4paWlyeFwKC0tTevXr1dycrL69u2rffv2GR0Nzdzu3bu1aNEizZkzh4+KwyUtWLBAI0aMUOvWreXt7a2ePXtq9erVmj17tgoKCvTcc88ZHRHNWFlZmaTy39/XrVunkSNHytfXV7fffrs++OADtWvXTlu2bNGOHTsMTgo0PApowAVcXuF8eSX0tXJyciocBwCo2sqVKzVjxgz16NFD8fHxCgoKMjoScJ3WrVvrgQceUFxcnDIzM/Xoo48aHQnN2OWtNyIjI/XCCy8YHQe4KZcvOPzFF18YnATNWWBgoCSpU6dO6t27d4U5q9Xq/DTe7t27GzwbYDQKaMAFdO3aVZJ0/PjxSudPnDgh6cZ7RAMArli+fLmmTp2qnj17Kj4+Xm3atDE6ElClsLAw9ejRQ4cPH9aFCxeMjoNmKi8vT8ePH9eRI0fk5eUlk8nk/Fq4cKEk6Re/+IVMJpNmzpxpcFqgolatWkmSbDabwUnQnF3+vT4gIKDS+csFdUFBQYNlAlwFFyEEXEBsbKwkKS4uTna7XWbzlX8bys3NVUJCgqxWqwYNGmRURABoFF566SXNnTtXffr00aeffqqWLVsaHQmokfPnz0uSLBaLwUnQXHl6eurxxx+vdG7fvn3av3+/YmJi1LVrV7bngMu5vKVBp06dDE6C5mzYsGFyc3PTiRMnVFxcLA8Pjwrzhw4dkiSFh4cbkA4wFgU04AIiIiI0atQoxcXFaeXKlZo2bZpzbsGCBbLZbJo8ebJ8fHwMTAkAru2FF17Q/PnzFRUVpbi4OLbdgEs5evSoAgICrluRb7fb9eyzzyojI0PR0dHO1VFAQ7NarXrttdcqnXvuuee0f/9+/fznP9cTTzzRwMmAcocPH1ZoaOh1f7+fPn1aU6dOlSQ98sgjRkQDJEktW7bUT37yE7377rt6/vnn9eKLLzrnPv30U33yySfy9/fXmDFjDEwJGIMCGnARq1atUnR0tKZPn65Nmzape/fu2rVrl+Lj4xUZGanf/e53RkdEM/fhhx/qww8/lFR+AS2pfLXJxIkTJZW/4Vq8eLFR8dDMvfXWW5o/f74sFouGDh2qFStWXHdMeHi48/UKNLSNGzfq17/+tYYNG6aIiAgFBwfr/7d3vyyxRVEYh9+5RhkwiUYR/AgmQQZM+hlONU6yWLQomMQ+yWyYpFgVRAcENRo8YrRZBJs3mC7cP9ywGNHniZsdVjvwY7PO8/Nzzs7O0rZtZmZmMhgMxj0mwKd1dHSUvb299Hq9zM3Npdvt5uHhIcfHx3l7e8vq6mo2NjbGPSbf3P7+fkajUXZ3d3N+fp7FxcU8PT1lOBxmYmIig8Hgjys64CsToOGTmJ+fz/X1dba2tnJ6epqTk5PMzs6m3+9ne3vbSz7G7vb2NoeHh7+ctW2btm2TfOwwFaAZl8fHxyQffx8/ODj47Z3l5WUBmrFZWVnJ+vp6Li4ucnd3l5eXl0xOTmZhYSFN06Tf7/vWA/xFr9fL/f19bm5ucnl5mdfX10xNTWVpaSlN06RpmnQ6nXGPyTc3PT2d0WiUnZ2dDIfDXF1dpdvtZm1tLZubm9Zq8m113t/f38c9BAAAAAAAX8+Pf18BAAAAAID/J0ADAAAAAFBCgAYAAAAAoIQADQAAAABACQEaAAAAAIASAjQAAAAAACUEaAAAAAAASgjQAAAAAACUEKABAAAAACghQAMAAAAAUEKABgAAAACghAANAAAAAEAJARoAAAAAgBICNAAAAAAAJQRoAAAAAABKCNAAAAAAAJQQoAEAAAAAKCFAAwAAAABQQoAGAAAAAKCEAA0AAAAAQAkBGgAAAACAEgI0AAAAAAAlBGgAAAAAAEoI0AAAAAAAlBCgAQAAAAAoIUADAAAAAFBCgAYAAAAAoIQADQAAAABACQEaAAAAAIASAjQAAAAAACUEaAAAAAAASgjQAAAAAACUEKABAAAAACghQAMAAAAAUEKABgAAAACghAANAAAAAEAJARoAAAAAgBICNAAAAAAAJQRoAAAAAABKCNAAAAAAAJQQoAEAAAAAKCFAAwAAAABQQoAGAAAAAKCEAA0AAAAAQAkBGgAAAACAEgI0AAAAAAAlBGgAAAAAAEoI0AAAAAAAlBCgAQAAAAAoIUADAAAAAFBCgAYAAAAAoIQADQAAAABACQEaAAAAAIASAjQAAAAAACUEaAAAAAAASgjQAAAAAACUEKABAAAAACghQAMAAAAAUEKABgAAAACghAANAAAAAECJn4xsf6nyjyfiAAAAAElFTkSuQmCC&quot; width=&quot;100%&quot; height=&quot;auto&quot; alt=&quot;&quot;&gt;&lt;/img&gt;\",\"width\":720},\"id\":\"1013\",\"type\":\"panel.models.markup.HTML\"}],\"root_ids\":[\"1012\",\"1014\"]},\"title\":\"Bokeh Application\",\"version\":\"2.4.3\"}};\n",
       "    var render_items = [{\"docid\":\"e69b14f6-fe5b-4456-bf3f-036c125db697\",\"root_ids\":[\"1012\"],\"roots\":{\"1012\":\"29e62f21-895f-4fce-adca-e6c8ae6a3beb\"}}];\n",
       "    root.Bokeh.embed.embed_items_notebook(docs_json, render_items);\n",
       "    for (const render_item of render_items) {\n",
       "      for (const root_id of render_item.root_ids) {\n",
       "\tconst id_el = document.getElementById(root_id)\n",
       "\tif (id_el.children.length && (id_el.children[0].className === 'bk-root')) {\n",
       "\t  const root_el = id_el.children[0]\n",
       "\t  root_el.id = root_el.id + '-rendered'\n",
       "\t}\n",
       "      }\n",
       "    }\n",
       "  }\n",
       "  if (root.Bokeh !== undefined && root.Bokeh.Panel !== undefined) {\n",
       "    embed_document(root);\n",
       "  } else {\n",
       "    var attempts = 0;\n",
       "    var timer = setInterval(function(root) {\n",
       "      if (root.Bokeh !== undefined && root.Bokeh.Panel !== undefined) {\n",
       "        clearInterval(timer);\n",
       "        embed_document(root);\n",
       "      } else if (document.readyState == \"complete\") {\n",
       "        attempts++;\n",
       "        if (attempts > 200) {\n",
       "          clearInterval(timer);\n",
       "          console.log(\"Bokeh: ERROR: Unable to run BokehJS code because BokehJS library is missing\");\n",
       "        }\n",
       "      }\n",
       "    }, 25, root)\n",
       "  }\n",
       "})(window);</script>"
      ],
      "text/plain": [
       "ParamFunction(function, _pane=Matplotlib, sizing_mode='scale_both')"
      ]
     },
     "execution_count": 18,
     "metadata": {
      "application/vnd.holoviews_exec.v0+json": {
       "id": "1012"
      }
     },
     "output_type": "execute_result"
    }
   ],
   "source": [
    "# # Reactive Functions\n",
    "# reactive_plots = pn.bind(vars_plot, variables)\n",
    "\n",
    "# pn.panel(reactive_plots, sizing_mode=\"scale_both\").servable()"
   ]
  }
 ],
 "metadata": {
  "kernelspec": {
   "display_name": "Python 3 (ipykernel)",
   "language": "python",
   "name": "python3"
  },
  "language_info": {
   "codemirror_mode": {
    "name": "ipython",
    "version": 3
   },
   "file_extension": ".py",
   "mimetype": "text/x-python",
   "name": "python",
   "nbconvert_exporter": "python",
   "pygments_lexer": "ipython3",
   "version": "3.11.3"
  }
 },
 "nbformat": 4,
 "nbformat_minor": 5
}
