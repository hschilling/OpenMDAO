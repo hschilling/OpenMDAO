{
 "cells": [
  {
   "cell_type": "code",
   "execution_count": null,
   "id": "7ea420ea",
   "metadata": {},
   "outputs": [],
   "source": [
    "import time\n",
    "import numpy as np\n",
    "import pandas as pd\n",
    "import holoviews as hv\n",
    "import panel as pn\n",
    "from holoviews import opts\n",
    "from holoviews.streams import Buffer\n",
    "\n",
    "hv.extension('bokeh')"
   ]
  },
  {
   "cell_type": "code",
   "execution_count": null,
   "id": "01a59bd9",
   "metadata": {},
   "outputs": [],
   "source": [
    "example = pd.DataFrame({'x': [], 'y': [], }, columns=['x', 'y',])\n",
    "dfstream = Buffer(example, length=4, index=False)\n",
    "curve_dmap = hv.DynamicMap(hv.Curve, streams=[dfstream])"
   ]
  },
  {
   "cell_type": "code",
   "execution_count": null,
   "id": "0d1a664f-1b3a-486b-8afe-ab91f1ee1832",
   "metadata": {},
   "outputs": [],
   "source": [
    "def view(curve_dmap):\n",
    "    template = pn.template.FastGridTemplate(\n",
    "        title=\"Streaming Dashboard example\",\n",
    "    )\n",
    "\n",
    "    template.main[0:7, 0:12] = pn.Column(curve_dmap)\n",
    "    return template"
   ]
  },
  {
   "cell_type": "code",
   "execution_count": null,
   "id": "3dce7e2b",
   "metadata": {},
   "outputs": [],
   "source": [
    "curve_dmap.opts(color='green', xlim=(-10, 10),  ylim=(-10, 10), show_legend=True)"
   ]
  },
  {
   "cell_type": "code",
   "execution_count": null,
   "id": "3dc4ec7f-89af-431d-9985-a95c047f7a12",
   "metadata": {},
   "outputs": [],
   "source": [
    "def run():\n",
    "    for i in range(7):\n",
    "        dfstream.send(pd.DataFrame([(np.random.randn(), np.random.randn(),)], columns=['x', 'y', ]))\n",
    "        print('sending')\n",
    "        time.sleep(1)\n"
   ]
  },
  {
   "cell_type": "code",
   "execution_count": null,
   "id": "477af978-5931-419e-a37d-4d89b106ef05",
   "metadata": {},
   "outputs": [],
   "source": [
    "# the name ends up being something like bokeh_app_8e1997d772a84cce91d3e8c9938f362e\n",
    "if __name__.startswith(\"bokeh\"):\n",
    "    pn.state.onload(run)\n",
    "    view(curve_dmap).servable()"
   ]
  }
 ],
 "metadata": {
  "kernelspec": {
   "display_name": "Python 3 (ipykernel)",
   "language": "python",
   "name": "python3"
  },
  "language_info": {
   "codemirror_mode": {
    "name": "ipython",
    "version": 3
   },
   "file_extension": ".py",
   "mimetype": "text/x-python",
   "name": "python",
   "nbconvert_exporter": "python",
   "pygments_lexer": "ipython3",
   "version": "3.11.3"
  }
 },
 "nbformat": 4,
 "nbformat_minor": 5
}
