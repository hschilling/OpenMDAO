{
 "cells": [
  {
   "cell_type": "code",
   "execution_count": 1,
   "id": "7d7b09d9-a5db-47c0-9a64-cabd95c410e3",
   "metadata": {},
   "outputs": [],
   "source": [
    "from openmdao.test_suite.components.sellar import SellarDerivativesGrouped\n",
    "from openmdao.utils.assert_utils import assert_near_equal, assert_warning\n",
    "import openmdao.api as om\n",
    "\n",
    "import numpy as np"
   ]
  },
  {
   "cell_type": "code",
   "execution_count": null,
   "id": "41a2a95e-dffd-4cd0-9784-e0b7c27ae651",
   "metadata": {},
   "outputs": [],
   "source": [
    "prob = om.Problem()\n",
    "model = prob.model = SellarDerivativesGrouped(nonlinear_solver=om.NonlinearBlockGS,\n",
    "                                              linear_solver=om.ScipyKrylov)\n",
    "\n",
    "prob.driver = om.ScipyOptimizeDriver(optimizer='SLSQP', tol=1e-9, disp=False)\n",
    "\n",
    "model.add_design_var('z', lower=np.array([-10.0, 0.0]), upper=np.array([10.0, 10.0]))\n",
    "model.add_design_var('x', lower=0.0, upper=10.0)\n",
    "model.add_objective('obj')\n",
    "model.add_constraint('con1', upper=0.0)\n",
    "model.add_constraint('con2', upper=0.0)\n",
    "\n",
    "prob.setup(check=False, mode='rev')\n",
    "\n",
    "# point_source = streamz.Stream()\n",
    "\n",
    "driver = prob.driver\n",
    "filename = \"sellar_recording.sql\"\n",
    "recorder = om.SqliteRecorder(filename, record_viewer_data=False)\n",
    "driver.recording_options['record_desvars'] = True\n",
    "driver.recording_options['record_objectives'] = True\n",
    "driver.recording_options['record_constraints'] = True\n",
    "# driver.recording_options['live_plotting'] = dfstream\n",
    "driver.recording_options['includes'] = []\n",
    "driver.add_recorder(recorder)"
   ]
  },
  {
   "cell_type": "code",
   "execution_count": null,
   "id": "a3f00274-396b-447b-a75a-30a30354cb69",
   "metadata": {},
   "outputs": [],
   "source": [
    "prob.run_driver()"
   ]
  },
  {
   "cell_type": "code",
   "execution_count": null,
   "id": "808399a8-0eef-4f26-8295-feb82e8522fb",
   "metadata": {},
   "outputs": [],
   "source": []
  }
 ],
 "metadata": {
  "kernelspec": {
   "display_name": "Python 3 (ipykernel)",
   "language": "python",
   "name": "python3"
  },
  "language_info": {
   "codemirror_mode": {
    "name": "ipython",
    "version": 3
   },
   "file_extension": ".py",
   "mimetype": "text/x-python",
   "name": "python",
   "nbconvert_exporter": "python",
   "pygments_lexer": "ipython3",
   "version": "3.11.3"
  }
 },
 "nbformat": 4,
 "nbformat_minor": 5
}
